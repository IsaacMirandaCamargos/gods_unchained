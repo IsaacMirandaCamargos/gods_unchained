{
 "cells": [
  {
   "cell_type": "markdown",
   "id": "39dfda0b",
   "metadata": {},
   "source": [
    "# Bibliotecas usadas: requests"
   ]
  },
  {
   "cell_type": "markdown",
   "id": "b21a0446",
   "metadata": {},
   "source": [
    "## 1. Requests"
   ]
  },
  {
   "cell_type": "markdown",
   "id": "22a5b41f",
   "metadata": {},
   "source": [
    "## 1.1 Introdução:"
   ]
  },
  {
   "cell_type": "markdown",
   "id": "381dcae0",
   "metadata": {},
   "source": [
    "Requisição web consiste em entrar em um site. Toda vez que você entra em um site o que você faz uma requisição pro servidor e o servidor te responde com o site.\n",
    "\n",
    "Quando faz um cadastro, você está enviando uma requisição.\n",
    "\n",
    "- get: Pedir informações. (entrar no site)\n",
    "- post: Enviar informações. (fazer um cadastro)"
   ]
  },
  {
   "cell_type": "markdown",
   "id": "05fd7810",
   "metadata": {},
   "source": [
    "Para ver as requisições que você faz em um site, ao entrar, clicar em F12 (ferramentas do desenvolvedor). Depois clicando em \"Network\" você consegue ver todas as requisições web que seu navegador fez para o servidor.\n",
    "\n",
    "Possiveis Status:\n",
    "- 200: Ta suave\n",
    "- 404: Não ta suave"
   ]
  },
  {
   "cell_type": "markdown",
   "id": "15dd5255",
   "metadata": {},
   "source": [
    "## 1.2 Ferramentas do desenvolvedor: network overview"
   ]
  },
  {
   "cell_type": "markdown",
   "id": "7a3b836a",
   "metadata": {},
   "source": [
    "###### General:\n",
    "- Request URL: endereço da requisição\n",
    "- Request Method: metodo\n",
    "- Status Code: status do pedido\n",
    "\n",
    "###### Response Headers:\n",
    "Servidor respondendo\n",
    "\n",
    "###### Request Headers:\n",
    "- User Agent: Sistema operacional de quem pediu"
   ]
  },
  {
   "cell_type": "markdown",
   "id": "6b723161",
   "metadata": {},
   "source": [
    "## 1.3 Implementação\n",
    "- site para requisições web https://putsreq.com/"
   ]
  },
  {
   "cell_type": "markdown",
   "id": "6a3eaa87",
   "metadata": {},
   "source": [
    "### 1.3.1 Metodo: get"
   ]
  },
  {
   "cell_type": "code",
   "execution_count": 4,
   "id": "4a2c9312",
   "metadata": {},
   "outputs": [
    {
     "name": "stdout",
     "output_type": "stream",
     "text": [
      "Hello World\n"
     ]
    }
   ],
   "source": [
    "import requests\n",
    "\n",
    "try:\n",
    "    requisicao = requests.get(\"https://putsreq.com/rD0aOLBc1lU6lv5cdM8P\")\n",
    "    texto = requisicao.text\n",
    "except Exception as erro:\n",
    "    print(\"DEU ERRO:\\t\", erro)\n",
    "    \n",
    "    \n",
    "type(requisicao) # <class 'requests.models.Response'>\n",
    "\n",
    "requisicao # <Response [200]>\n",
    "\n",
    "requisicao.status_code # 200\n",
    "\n",
    "print(requisicao.text) # codigo fonte do site, na forma de uma string\n"
   ]
  },
  {
   "cell_type": "markdown",
   "id": "2ef6a281",
   "metadata": {},
   "source": [
    "### 1.3.2 Metodo: post"
   ]
  },
  {
   "cell_type": "code",
   "execution_count": 5,
   "id": "78c1a9a7",
   "metadata": {},
   "outputs": [
    {
     "name": "stdout",
     "output_type": "stream",
     "text": [
      "Hello World\n"
     ]
    }
   ],
   "source": [
    "import requests\n",
    "\n",
    "cabecalho = {'USER-AGENT': \"WINDOWS MASTER\"}\n",
    "\n",
    "meus_cookies = {'ultima_visita':\"09/02/2022\"}\n",
    "\n",
    "dados = {'username':'isaac',\n",
    "        'password': \"123\"}\n",
    "\n",
    "try:\n",
    "    requisicao = requests.post(\"https://putsreq.com/rD0aOLBc1lU6lv5cdM8P\", \n",
    "                               headers=cabecalho, \n",
    "                               cookies=meus_cookies,\n",
    "                              data= dados)\n",
    "    texto = requisicao.text\n",
    "    print(texto)\n",
    "except Exception as erro:\n",
    "    print(\"DEU ERRO:\\t\", erro)\n"
   ]
  },
  {
   "cell_type": "markdown",
   "id": "563d1674",
   "metadata": {},
   "source": [
    "## 2. API: Application programing interface\n",
    "\n",
    "APIs são interfaces que você usa para se comunicar com outros programas, você passa parametros e a API retorna informações.\n",
    "\n",
    "As APIs se comunicam na forma de JSON."
   ]
  },
  {
   "cell_type": "markdown",
   "id": "ab5372eb",
   "metadata": {},
   "source": [
    "### 2.1 Pegando dados da API"
   ]
  },
  {
   "cell_type": "code",
   "execution_count": 6,
   "id": "3c6ed092",
   "metadata": {},
   "outputs": [
    {
     "data": {
      "text/plain": [
       "'{\"Title\":\"Avatar\",\"Year\":\"2009\",\"Rated\":\"PG-13\",\"Released\":\"18 Dec 2009\",\"Runtime\":\"162 min\",\"Genre\":\"Action, Adventure, Fantasy\",\"Director\":\"James Cameron\",\"Writer\":\"James Cameron\",\"Actors\":\"Sam Worthington, Zoe Saldana, Sigourney Weaver\",\"Plot\":\"A paraplegic Marine dispatched to the moon Pandora on a unique mission becomes torn between following his orders and protecting the world he feels is his home.\",\"Language\":\"English, Spanish\",\"Country\":\"United States\",\"Awards\":\"Won 3 Oscars. 89 wins & 131 nominations total\",\"Poster\":\"https://m.media-amazon.com/images/M/MV5BMTYwOTEwNjAzMl5BMl5BanBnXkFtZTcwODc5MTUwMw@@._V1_SX300.jpg\",\"Ratings\":[{\"Source\":\"Internet Movie Database\",\"Value\":\"7.8/10\"},{\"Source\":\"Rotten Tomatoes\",\"Value\":\"82%\"},{\"Source\":\"Metacritic\",\"Value\":\"83/100\"}],\"Metascore\":\"83\",\"imdbRating\":\"7.8\",\"imdbVotes\":\"1,180,827\",\"imdbID\":\"tt0499549\",\"Type\":\"movie\",\"DVD\":\"22 Apr 2010\",\"BoxOffice\":\"$760,507,625\",\"Production\":\"N/A\",\"Website\":\"N/A\",\"Response\":\"True\"}'"
      ]
     },
     "execution_count": 6,
     "metadata": {},
     "output_type": "execute_result"
    }
   ],
   "source": [
    "import requests\n",
    "\n",
    "\n",
    "req = None\n",
    "try:\n",
    "    req = requests.get('http://www.omdbapi.com/?apikey=846cc761&t=Avatar')\n",
    "except Exception as erro:\n",
    "    print(\"DEU ERRO:\\t\", erro)\n",
    "    exit()\n",
    "    \n",
    "\n",
    "req.text"
   ]
  },
  {
   "cell_type": "markdown",
   "id": "15136320",
   "metadata": {},
   "source": [
    "### 2.2 Transformando o Json em dicionario"
   ]
  },
  {
   "cell_type": "markdown",
   "id": "cda5c3fd",
   "metadata": {},
   "source": [
    "- No caso dessa API, ela devolveu um JSON e vamos converter para um dicionario."
   ]
  },
  {
   "cell_type": "code",
   "execution_count": 20,
   "id": "d05464cf",
   "metadata": {},
   "outputs": [
    {
     "name": "stdout",
     "output_type": "stream",
     "text": [
      "{'Title': 'Avatar', 'Year': '2009', 'Rated': 'PG-13', 'Released': '18 Dec 2009', 'Runtime': '162 min', 'Genre': 'Action, Adventure, Fantasy', 'Director': 'James Cameron', 'Writer': 'James Cameron', 'Actors': 'Sam Worthington, Zoe Saldana, Sigourney Weaver', 'Plot': 'A paraplegic Marine dispatched to the moon Pandora on a unique mission becomes torn between following his orders and protecting the world he feels is his home.', 'Language': 'English, Spanish', 'Country': 'United States', 'Awards': 'Won 3 Oscars. 89 wins & 131 nominations total', 'Poster': 'https://m.media-amazon.com/images/M/MV5BMTYwOTEwNjAzMl5BMl5BanBnXkFtZTcwODc5MTUwMw@@._V1_SX300.jpg', 'Ratings': [{'Source': 'Internet Movie Database', 'Value': '7.8/10'}, {'Source': 'Rotten Tomatoes', 'Value': '81%'}, {'Source': 'Metacritic', 'Value': '83/100'}], 'Metascore': '83', 'imdbRating': '7.8', 'imdbVotes': '1,175,601', 'imdbID': 'tt0499549', 'Type': 'movie', 'DVD': '22 Apr 2010', 'BoxOffice': '$760,507,625', 'Production': 'N/A', 'Website': 'N/A', 'Response': 'True'}\n"
     ]
    }
   ],
   "source": [
    "import json\n",
    "\n",
    "dicionario = json.loads(req.text)\n",
    "\n",
    "print(dicionario)"
   ]
  },
  {
   "cell_type": "markdown",
   "id": "bb4a7c5c",
   "metadata": {},
   "source": [
    "- Pegando o elemento que queremos"
   ]
  },
  {
   "cell_type": "code",
   "execution_count": 23,
   "id": "06d44bd7",
   "metadata": {},
   "outputs": [
    {
     "name": "stdout",
     "output_type": "stream",
     "text": [
      "Avatar \n",
      " 2009\n"
     ]
    }
   ],
   "source": [
    "print(dicionario['Title'], '\\n', dicionario['Year'])"
   ]
  },
  {
   "cell_type": "markdown",
   "id": "6363db73",
   "metadata": {},
   "source": [
    "## 3. Programa que pega informações sobre filmes\n",
    "- API: OMDB API"
   ]
  },
  {
   "cell_type": "code",
   "execution_count": 4,
   "id": "3ed02505",
   "metadata": {},
   "outputs": [
    {
     "name": "stdout",
     "output_type": "stream",
     "text": [
      "Escreva o nome de um filme ou SAIR para fecharAvatar\n",
      "Titulo: Avatar\n",
      "Ano: 2009\n",
      "Diretor: James Cameron\n",
      "Atores: Sam Worthington, Zoe Saldana, Sigourney Weaver\n",
      "Nota: 7.8\n",
      "Premios: Won 3 Oscars. 89 wins & 131 nominations total\n",
      "Poster: https://m.media-amazon.com/images/M/MV5BMTYwOTEwNjAzMl5BMl5BanBnXkFtZTcwODc5MTUwMw@@._V1_SX300.jpg\n",
      "\n",
      "Escreva o nome de um filme ou SAIR para fecharSair\n",
      "Titulo: Sair\n",
      "Ano: 2020\n",
      "Diretor: Mehmet Emin Yildirim\n",
      "Atores: Hakan Atalay, Suna Selen, Sedat Kalkavan\n",
      "Nota: 4.7\n",
      "Premios: N/A\n",
      "Poster: https://m.media-amazon.com/images/M/MV5BZDM4MzZjYjAtMzZkYi00YWI2LWExOTgtNGRmMmY0Nzg5ZTE1XkEyXkFqcGdeQXVyMzQyMDgyNDY@._V1_SX300.jpg\n",
      "\n",
      "Escreva o nome de um filme ou SAIR para fecharSAIR\n",
      "Titulo: Sair\n",
      "Ano: 2020\n",
      "Diretor: Mehmet Emin Yildirim\n",
      "Atores: Hakan Atalay, Suna Selen, Sedat Kalkavan\n",
      "Nota: 4.7\n",
      "Premios: N/A\n",
      "Poster: https://m.media-amazon.com/images/M/MV5BZDM4MzZjYjAtMzZkYi00YWI2LWExOTgtNGRmMmY0Nzg5ZTE1XkEyXkFqcGdeQXVyMzQyMDgyNDY@._V1_SX300.jpg\n",
      "\n"
     ]
    }
   ],
   "source": [
    "import json\n",
    "import requests\n",
    "\n",
    "\n",
    "def requisicao(titulo):\n",
    "    try:\n",
    "        req = requests.get('http://www.omdbapi.com/?apikey=846cc761&t=' + titulo)\n",
    "\n",
    "        return json.loads(req.text)\n",
    "    except Exception as erro:\n",
    "        print('DEU ERRO:\\t', erro)\n",
    "        return None\n",
    "\n",
    "\n",
    "def printar_detalhes(filme):\n",
    "    print('Titulo:', filme['Title'])\n",
    "    print('Ano:', filme['Year'])\n",
    "    print('Diretor:', filme['Director'])\n",
    "    print('Atores:', filme['Actors'])\n",
    "    print('Nota:', filme['imdbRating'])\n",
    "    print('Premios:', filme['Awards'])\n",
    "    print('Poster:', filme['Poster'])\n",
    "    print('')\n",
    "\n",
    "sair = True\n",
    "while sair:\n",
    "    \n",
    "    op = input('Escreva o nome de um filme ou SAIR para fechar')\n",
    "    \n",
    "    if op == 'SAIR':\n",
    "        sair = False\n",
    "    else:\n",
    "        filme = requisicao(op)\n",
    "    if filme['Response'] == 'False':\n",
    "        print('Filme não encontrado')\n",
    "    else:\n",
    "        printar_detalhes(filme)"
   ]
  },
  {
   "cell_type": "markdown",
   "id": "45167a27",
   "metadata": {},
   "source": [
    "## 4. Programa que pesquisa informações sobre filmes\n",
    "- API: OMDB API"
   ]
  },
  {
   "cell_type": "code",
   "execution_count": 8,
   "id": "5f32c887",
   "metadata": {},
   "outputs": [
    {
     "name": "stdout",
     "output_type": "stream",
     "text": [
      "Escreva o nome de um filme ou SAIR para fechar: Harry Potter\n",
      "Harry Potter 20th Anniversary: Return to Hogwarts 2022\n",
      "Harry Potter and the Cursed Child: Melbourne Show 2021\n",
      "Harry Potter and the Cursed Child: Toronto Show 2021\n",
      "Making Harry Potter Warner Bros Studio Tour 2020\n",
      "Darla's Book Club: Discussing the Harry Potter Series 2020\n",
      "Son of the moon: A Harry Potter fan film 2018\n",
      "You Haven't Read Harry Potter? 2018\n",
      "The Harry Potter Saga Analyzed 2018\n",
      "Fantastic Beasts and Where to Find Them: Before Harry Potter 2017\n",
      "Harry Potter: A History of Magic 2017\n",
      "Harry Potter and the Cursed Child: San Francisco 2017\n",
      "Fantastic Beasts and Where to Find Them: Harry Potter Day 2016\n",
      "Harry Potter and the Cursed Child: London Show 2016\n",
      "Harry Potter and the Music Video Parody (About Hermione!) 2016\n",
      "Harry Potter and the Sorcerer's Stone 2016\n",
      "Harry Potter and the Philosopher's Stone 2016\n",
      "Harry Potter and the New Wands 2016\n",
      "Harry Potter Casts a Revealing Spell 2016\n",
      "8 Signs You're Obsessed with Harry Potter 2016\n",
      "Harry Potter and the Adjective Noun 2016\n",
      "R-Rated Harry Potter 2015\n",
      "Hufflepuff: A Harry Potter Rap Parody 2015\n",
      "Dark Lord Funk: Harry Potter Parody of Uptown Funk 2015\n",
      "Harry Potter and the Escape from Gringotts 2014\n",
      "Harry Potter: The Making of Diagon Alley 2014\n",
      "Do You Wanna Build a Horcrux?: Harry Potter/Frozen Parody 2014\n",
      "Harry Potter and the Unlikely Collaboration 2013\n",
      "Drunk Harry Potter 2013\n",
      "Creating the World of Harry Potter, Part 8: Growing Up 2012\n",
      "Creating the World of Harry Potter, Part 7: Story 2012\n",
      "Life After Hogwarts: Episode 1 - Harry Potter Goes to Therapy 2012\n",
      "Daniel Radcliffe: Being Harry Potter 2012\n",
      "Harry Potter and the Untold Stories of Hogwarts 2012\n",
      "Nizard Harry Potter Rap 2012\n",
      "Harry Potter and the Goblet of Points 2012\n",
      "Harry Potter v. Voldemort 2012\n",
      "Warner Bros. Studio Tour London: The Making of Harry Potter 2012\n",
      "Harry Potter and the Deathly Hallows: Part 2 2011\n",
      "50 Greatest Harry Potter Moments 2011\n",
      "Creating the World of Harry Potter, Part 5: Evolution 2011\n",
      "Creating the World of Harry Potter, Part 6: Magical Effects 2011\n",
      "Harry Potter and the Deathly Hallows Pt 2 T4 Premiere Special 2011\n",
      "Harry Potter and the Sorcerer's Feces 2011\n",
      "Harry Potter and the Toilet of Secrets 2011\n",
      "Harry Potter and the Prisoner of Hairiness 2011\n",
      "The Women of Harry Potter 2011\n",
      "Harry Potter and the Transformation of the First Class 2011\n",
      "Harry Potter y los 7 pecados capitales 2011\n",
      "Harry Potter and Grindelwald's Demise 2011\n",
      "Harry Potter: The Magic Lives On 2011\n",
      "Harry Potter and the Deathly Hallows: Part 1 2010\n",
      "Harry Potter and the Forbidden Journey 2010\n",
      "I Am Harry Potter 2010\n",
      "Creating the World of Harry Potter, Part 4: Sound and Music 2010\n",
      "Creating the World of Harry Potter, Part 3: Creatures 2010\n",
      "The Seekers Guide to Harry Potter 2010\n",
      "Big Movie Premiere: Harry Potter & the Deathly Hallows Pt. 1 2010\n",
      "Harry Potter and the Deathly Hallows T4 Premiere Special 2010\n",
      "Harry Potter and the Half-Blood Prince 2009\n",
      "Creating the World of Harry Potter, Part 1: The Magic Begins 2009\n",
      "Creating the World of Harry Potter, Part 2: Characters 2009\n",
      "Harry Potter & the Half Blood Prince: T4 Premiere Special 2009\n",
      "Harry Potter: The Exhibition 2009\n",
      "Big Movie Premiere: Harry Potter and the Half Blood Prince 2009\n",
      "Drunk Man Meets Harry Potter Parody 2009\n",
      "Harry Potter and the Order of the Phoenix 2007\n",
      "The Hidden Secrets of Harry Potter 2007\n",
      "Harry Potter in the Hood 2007\n",
      "Harry Potter and the Order of the Phoenix: T4 Movie Special 2007\n",
      "An Exclusive Inside Look at 'Harry Potter and the Order of the Phoenix' 2007\n",
      "Achter de schermen bij 'Harry Potter en de orde van de feniks' 2007\n",
      "Harry Potter and the Girlfriend of Lost Fidelity 2007\n",
      "Harry Potter and the Doing of Tax 2007\n",
      "Harry Potter and the Half-Nude Prints 2007\n",
      "Harry Potter Spoof Movie 2006\n",
      "Harry Potter and the Goblet of Fire 2005\n",
      "'Harry Potter': Behind the Magic 2005\n",
      "Inside 'Harry Potter and the Goblet of Fire' 2005\n",
      "Harry Potter at the Castle: Magic at Midnight 2005\n",
      "Harry Potter és a bölcsek köve 2005\n",
      "Harry Potter and the Prisoner of Azkaban 2004\n",
      "Harry Potter and the Chamber of Secrets 2002\n",
      "Harry Potter and the Sorcerer's Stone 2001\n",
      "Harry Potter: Witchcraft Repackaged 2001\n",
      "'Harry Potter': Behind the Magic 2001\n",
      "Discovering the Real World of Harry Potter 2001\n",
      "JK Rowling and the Harry Potter Express 2001\n",
      "The Magical World of Harry Potter: The Unauthorized Story of J.K. Rowling 2000\n",
      "\n",
      "\n",
      "\n",
      "\n",
      "Escreva o nome de um filme ou SAIR para fechar: SAIR\n"
     ]
    }
   ],
   "source": [
    "import json\n",
    "import requests\n",
    "\n",
    "\n",
    "def pesquisa(nome):\n",
    "    pag = 1\n",
    "    movies = []\n",
    "    \n",
    "    while pag !=0:\n",
    "        try:\n",
    "            req = requests.get('http://www.omdbapi.com/?apikey=846cc761&s='+ nome + '&type=movie'+'&page={}'.format(pag))\n",
    "            #print(req.text)\n",
    "        except Exception as erro:\n",
    "            print('DEU ERRO:\\t', erro)\n",
    "        \n",
    "        # trabalhando com as informações\n",
    "        info = json.loads(req.text)\n",
    "        if info['Response'] == 'True':\n",
    "            pag+=1\n",
    "            movies.extend((info['Search']))\n",
    "        else:\n",
    "            pag=0\n",
    "    return movies\n",
    "            \n",
    "    \n",
    "def nomes(nome):\n",
    "    lista = pesquisa(nome)\n",
    "    lista.sort(key=lambda x: x['Year'], reverse=True)\n",
    "    for filme in lista:\n",
    "        print(filme['Title'], filme['Year'])\n",
    "    print('\\n\\n\\n')\n",
    "\n",
    "\n",
    "sair = True\n",
    "while sair:\n",
    "    \n",
    "    op = input('Escreva o nome de um filme ou SAIR para fechar: ')\n",
    "    \n",
    "    if op == 'SAIR':\n",
    "        sair = False\n",
    "    else:\n",
    "        nomes(op)\n",
    "    "
   ]
  },
  {
   "cell_type": "markdown",
   "id": "77910e9a",
   "metadata": {},
   "source": [
    "## 5. Programa que pesquisa filmes com um nome e pega informações sobre os 5 primeiros\n",
    "- API: OMDB API"
   ]
  },
  {
   "cell_type": "code",
   "execution_count": 90,
   "id": "1abd5676",
   "metadata": {},
   "outputs": [
    {
     "name": "stdout",
     "output_type": "stream",
     "text": [
      "Alan Isaac 2021\n",
      "Isaac 2020\n",
      "Isaac Butterfield: Anti Hero 2020\n",
      "Isaac and the Ram 2020\n",
      "Isaac & Julian 2020\n",
      "\n",
      "\n",
      "\n",
      "\n",
      "Titulo: Alan Isaac\n",
      "Ano: 2021\n",
      "Diretor: L. Csillag\n",
      "Atores: Caspar Phillipson, Nina Yndis, Julie R. Ølgaard\n",
      "Nota: N/A\n",
      "Premios: N/A\n",
      "Poster: https://m.media-amazon.com/images/M/MV5BMmM4ZDJlZGMtMGM1ZS00OGUyLWIyYzMtY2RlNmJjZGVmZjllXkEyXkFqcGdeQXVyNzM1Mjc0MTM@._V1_SX300.jpg\n",
      "\n",
      "\n",
      "Titulo: Isaac\n",
      "Ano: 2019\n",
      "Diretor: Jurgis Matulevicius\n",
      "Atores: Aleksas Kazanavicius, Severija Janusauskaite, Dainius Gavenonis\n",
      "Nota: 7.1\n",
      "Premios: 5 wins & 15 nominations\n",
      "Poster: https://m.media-amazon.com/images/M/MV5BMThkNDcxZjEtYzY0ZC00OTY3LWE0MTktZmI1ODJlM2IyMWRiXkEyXkFqcGdeQXVyMjY5ODcyMDM@._V1_SX300.jpg\n",
      "\n",
      "\n",
      "Titulo: Isaac Butterfield: Anti Hero\n",
      "Ano: 2020\n",
      "Diretor: Connor Fairclough\n",
      "Atores: Isaac Butterfield, Chris Dahmen, Georgia Davies\n",
      "Nota: 5.7\n",
      "Premios: N/A\n",
      "Poster: https://m.media-amazon.com/images/M/MV5BZjJjMGJjM2MtOWU1MC00MGMxLWI5ZmYtNDdhMzdiOGQ0YjdhXkEyXkFqcGdeQXVyMzQ3NjgxNDA@._V1_SX300.jpg\n",
      "\n",
      "\n",
      "Titulo: Isaac and the Ram\n",
      "Ano: 2020\n",
      "Diretor: Jason Bradbury\n",
      "Atores: Ian Pirie\n",
      "Nota: N/A\n",
      "Premios: N/A\n",
      "Poster: https://m.media-amazon.com/images/M/MV5BZjgwYTNiYWUtNDExNS00ODk5LWE4ZWItOWEwNDUxZmM4MTcwXkEyXkFqcGdeQXVyMjQxNzY5NTc@._V1_SX300.jpg\n",
      "\n",
      "\n",
      "Titulo: Isaac\n",
      "Ano: 2019\n",
      "Diretor: Jurgis Matulevicius\n",
      "Atores: Aleksas Kazanavicius, Severija Janusauskaite, Dainius Gavenonis\n",
      "Nota: 7.1\n",
      "Premios: 5 wins & 15 nominations\n",
      "Poster: https://m.media-amazon.com/images/M/MV5BMThkNDcxZjEtYzY0ZC00OTY3LWE0MTktZmI1ODJlM2IyMWRiXkEyXkFqcGdeQXVyMjY5ODcyMDM@._V1_SX300.jpg\n",
      "\n",
      "\n"
     ]
    }
   ],
   "source": [
    "import json\n",
    "import requests\n",
    "\n",
    "\n",
    "def pesquisa(nome):\n",
    "    pag = 1\n",
    "    movies = []\n",
    "    \n",
    "    while pag !=0:\n",
    "        try:\n",
    "            req = requests.get('http://www.omdbapi.com/?apikey=846cc761&s='+ nome + '&type=movie'+'&page={}'.format(pag))\n",
    "            #print(req.text)\n",
    "        except Exception as erro:\n",
    "            print('DEU ERRO:\\t', erro)\n",
    "        \n",
    "        # trabalhando com as informações\n",
    "        info = json.loads(req.text)\n",
    "        if info['Response'] == 'True':\n",
    "            pag+=1\n",
    "            movies.extend((info['Search']))\n",
    "        else:\n",
    "            pag=0\n",
    "    return movies\n",
    "            \n",
    "    \n",
    "def nomes(nome):\n",
    "    lista = pesquisa(nome)\n",
    "    lista.sort(key=lambda x: x['Year'], reverse=True)\n",
    "    lista = lista[0:5]\n",
    "    \n",
    "    for filme in lista:\n",
    "        print(filme['Title'], filme['Year'])\n",
    "    print('\\n\\n\\n')\n",
    "    return lista\n",
    "    \n",
    "def requisicao(titulo):\n",
    "    try:\n",
    "        req = requests.get('http://www.omdbapi.com/?apikey=846cc761&t=' + titulo)\n",
    "\n",
    "        return json.loads(req.text)\n",
    "    except Exception as erro:\n",
    "        print('DEU ERRO:\\t', erro)\n",
    "        return None\n",
    "\n",
    "\n",
    "def printar_detalhes(filme):\n",
    "    print('Titulo:', filme['Title'])\n",
    "    print('Ano:', filme['Year'])\n",
    "    print('Diretor:', filme['Director'])\n",
    "    print('Atores:', filme['Actors'])\n",
    "    print('Nota:', filme['imdbRating'])\n",
    "    print('Premios:', filme['Awards'])\n",
    "    print('Poster:', filme['Poster'])\n",
    "    print('\\n')\n",
    "\n",
    "def tudo_junto(nome):\n",
    "    lista = nomes(nome)\n",
    "    for i in lista:\n",
    "        filme = requisicao(i['Title'])\n",
    "        printar_detalhes(filme)\n",
    "\n",
    "tudo_junto('Isaac')"
   ]
  },
  {
   "cell_type": "markdown",
   "id": "942f0dbe",
   "metadata": {},
   "source": [
    "## 6. Expressões regulares basico"
   ]
  },
  {
   "cell_type": "markdown",
   "id": "3b81a13e",
   "metadata": {},
   "source": [
    "### 6.1 Funções basicas"
   ]
  },
  {
   "cell_type": "code",
   "execution_count": 117,
   "id": "0f726d36",
   "metadata": {},
   "outputs": [
    {
     "name": "stdout",
     "output_type": "stream",
     "text": [
      "<re.Match object; span=(2, 5), match='RPG'>\n",
      "RPG\n",
      "(2, 5) \n",
      "\n",
      "\n",
      "\n",
      "['RPG', 'RPG', 'RPG', 'RPG'] \n",
      "\n",
      "\n",
      "\n",
      "<callable_iterator object at 0x000001F677FEB400>\n",
      "[<re.Match object; span=(2, 5), match='RPG'>, <re.Match object; span=(18, 21), match='RPG'>, <re.Match object; span=(159, 162), match='RPG'>, <re.Match object; span=(435, 438), match='RPG'>]\n",
      "[(2, 5), (18, 21), (159, 162), (435, 438)] \n",
      "\n",
      "\n",
      "\n",
      "O RPG É MUITO LEGALLLLLLLL de mesa, ou RPG É MUITO LEGALLLLLLLL de papel e caneta, é um jogo que lembra muito os clássicos jogos de tabuleiro, \n",
      "porém com possibilidades mais amplas. Do inglês, a sigla RPG É MUITO LEGALLLLLLLL significa \"Role Playing Game\", \n",
      "um jogo de interpretar papéis. Neste caso o jogador não é apenas um pino andando em casas de um tabuleiro, \n",
      "ele interpreta um personagem, com emoções, falas e habilidades enquanto atravessa um mundo fantástico. \n",
      "Ensinaremos aqui como jogar RPG É MUITO LEGALLLLLLLL de mesa.\n",
      " \n",
      "\n",
      "\n",
      "\n"
     ]
    }
   ],
   "source": [
    "import re\n",
    "\n",
    "texto = \"\"\"O RPG de mesa, ou RPG de papel e caneta, é um jogo que lembra muito os clássicos jogos de tabuleiro, \n",
    "porém com possibilidades mais amplas. Do inglês, a sigla RPG significa \"Role Playing Game\", \n",
    "um jogo de interpretar papéis. Neste caso o jogador não é apenas um pino andando em casas de um tabuleiro, \n",
    "ele interpreta um personagem, com emoções, falas e habilidades enquanto atravessa um mundo fantástico. \n",
    "Ensinaremos aqui como jogar RPG de mesa.\n",
    "\"\"\"\n",
    "\n",
    "pesquisa = re.search(r'rpg', texto, flags=re.IGNORECASE)\n",
    "print(pesquisa)\n",
    "print(pesquisa.group())\n",
    "print(pesquisa.span(), \"\\n\\n\\n\")\n",
    "\n",
    "pesquisa_all = re.findall(r'rpg', texto, flags=re.IGNORECASE)\n",
    "print(pesquisa_all, \"\\n\\n\\n\")\n",
    "\n",
    "indexes = re.finditer(r'rpg', texto, flags=re.IGNORECASE)\n",
    "index = [i for i in indexes] \n",
    "print(indexes)\n",
    "print(index)\n",
    "print([i.span() for i in index], '\\n\\n\\n')\n",
    "\n",
    "substituição = re.sub(r'rpg', r'RPG É MUITO LEGALLLLLLLL' ,texto, flags=re.IGNORECASE)\n",
    "print(substituição, \"\\n\\n\\n\")\n",
    "\n"
   ]
  },
  {
   "cell_type": "markdown",
   "id": "b735c080",
   "metadata": {},
   "source": [
    "### 6.2 Pegando emails"
   ]
  },
  {
   "cell_type": "code",
   "execution_count": 121,
   "id": "b69216ae",
   "metadata": {},
   "outputs": [
    {
     "name": "stdout",
     "output_type": "stream",
     "text": [
      "['isaac@hotmail.com', 'abers@gmail.com.br', 'fasapev588@porjoton.com']\n"
     ]
    }
   ],
   "source": [
    "import re\n",
    "\n",
    "texto = \"isaac@hotmail.com abers@gmail.com.br fasapev588@porjoton.com\"\n",
    "\n",
    "lista = re.findall(r'[\\w\\d-]+@[\\w-]+.\\w+[\\.\\w]*', texto)\n",
    "\n",
    "print(lista)\n",
    "\n"
   ]
  },
  {
   "cell_type": "markdown",
   "id": "15d893b6",
   "metadata": {},
   "source": [
    "## 7. API de cotações\n",
    "- AwesomeAPI"
   ]
  },
  {
   "cell_type": "markdown",
   "id": "f83ac8e8",
   "metadata": {},
   "source": [
    "### 7.1 Cotação do dolar, euro e bitcoin"
   ]
  },
  {
   "cell_type": "code",
   "execution_count": 10,
   "id": "5d202893",
   "metadata": {},
   "outputs": [
    {
     "name": "stdout",
     "output_type": "stream",
     "text": [
      "Dólar Americano/Real Brasileiro\n",
      "minimo: 5.1666\n",
      "maximo: 5.2212\n",
      "data: 15/02/2022\n",
      "\n",
      "Euro/Real Brasileiro\n",
      "minimo: 5.865\n",
      "maximo: 5.9274\n",
      "data: 15/02/2022\n",
      "\n",
      "Bitcoin/Real Brasileiro\n",
      "minimo: 220.167\n",
      "maximo: 232.795\n",
      "data: 15/02/2022\n",
      "\n"
     ]
    }
   ],
   "source": [
    "import requests\n",
    "import json\n",
    "\n",
    "def pegar_dados():\n",
    "    try:\n",
    "        req = requests.get('https://economia.awesomeapi.com.br/last/USD-BRL,EUR-BRL,BTC-BRL')\n",
    "    except Exception as erro:\n",
    "        print('DEU ERRO:\\t', erro)\n",
    "        \n",
    "    return json.loads(req.text)\n",
    "\n",
    "\n",
    "\n",
    "def pegando_info(cotacao):\n",
    "    for key in cotacao:\n",
    "        name = cotacao[key]['name']\n",
    "        minimo = \"minimo: \" + cotacao[key]['low']\n",
    "        maximo = \"maximo: \" + cotacao[key]['high']\n",
    "        data = \"data: \" + '/'.join(cotacao[key]['create_date'].split()[0].split(\"-\")[::-1])\n",
    "        info = \"\\n\".join([name,minimo,maximo,data]) + \"\\n\"\n",
    "        print(info)\n",
    "\n",
    "pegando_info(pegar_dados())\n",
    "\n"
   ]
  }
 ],
 "metadata": {
  "kernelspec": {
   "display_name": "Python 3 (ipykernel)",
   "language": "python",
   "name": "python3"
  },
  "language_info": {
   "codemirror_mode": {
    "name": "ipython",
    "version": 3
   },
   "file_extension": ".py",
   "mimetype": "text/x-python",
   "name": "python",
   "nbconvert_exporter": "python",
   "pygments_lexer": "ipython3",
   "version": "3.9.6"
  }
 },
 "nbformat": 4,
 "nbformat_minor": 5
}
