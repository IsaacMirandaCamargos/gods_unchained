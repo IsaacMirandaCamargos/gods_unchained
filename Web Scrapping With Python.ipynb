{
 "cells": [
  {
   "cell_type": "markdown",
   "id": "8d5f0dd7",
   "metadata": {},
   "source": [
    "# Web Scrapping\n",
    "- Web scrapping consiste em retirar informações da internet de forma automatica."
   ]
  },
  {
   "cell_type": "markdown",
   "id": "279672d7",
   "metadata": {},
   "source": [
    "## 1. Introdução do HTML\n",
    "- HTML significa Hyper Markup Language, o HTML nada mais é que uma linguagem de marcação a qual é utilizada na criação de sites.\n",
    "- O HTML funciona como uma linguagem de marcação (tags)\n",
    "- Algumas tags possuem atributos, que ficam referenciados dentro da tag de abertura."
   ]
  },
  {
   "cell_type": "markdown",
   "id": "b62d27d8",
   "metadata": {},
   "source": [
    "### 1.1 Tags HTML\n",
    "\n",
    "As tags são limitadas por \"<\" e \">\". As tags geralmente contem 3 elementos:\n",
    "- tag de abertura\n",
    "- conteudo\n",
    "- tag de fechamento"
   ]
  },
  {
   "cell_type": "code",
   "execution_count": 1,
   "id": "b4a66f35",
   "metadata": {},
   "outputs": [],
   "source": [
    "# <p> isso é um paragrafo </p>"
   ]
  },
  {
   "cell_type": "markdown",
   "id": "8e06e133",
   "metadata": {},
   "source": [
    "### 1.2 Tags: head\n",
    "Dentro da tag \"head\" colocamos a tag \"title\" e outras tags que estão relacionadas as fontes que importamos ao nosso site."
   ]
  },
  {
   "cell_type": "code",
   "execution_count": null,
   "id": "7fb0a4bf",
   "metadata": {},
   "outputs": [],
   "source": [
    "# <head> \n",
    "#     <title> Nome que vai aparecer na aba do google chrome </title>\n",
    "# </head>"
   ]
  },
  {
   "cell_type": "markdown",
   "id": "91dd9cb1",
   "metadata": {},
   "source": [
    "### 1.3 Tags: body\n",
    "Dentro da tag \"body\" colocamos tudo o que nosso site vai ter, por exemplo paragrafos com a tag \"p\"."
   ]
  },
  {
   "cell_type": "code",
   "execution_count": 2,
   "id": "f4ceefad",
   "metadata": {},
   "outputs": [],
   "source": [
    "# <body>\n",
    "#     <p> texto </p>\n",
    "# </body>"
   ]
  },
  {
   "cell_type": "markdown",
   "id": "b9e1b56f",
   "metadata": {},
   "source": [
    "### 1.4 Tags: principais tags"
   ]
  },
  {
   "cell_type": "code",
   "execution_count": 3,
   "id": "557d78de",
   "metadata": {},
   "outputs": [],
   "source": [
    "# <html></html> : Conteúdo HTML\n",
    "# <head></head> : Cabeçalho do documento\n",
    "# <title></title> : Titulo da pagina HTML\n",
    "# <body></body> : Corpo do documento (pagina)\n",
    "# <h1></h1> Cabeçalho de nivel 1 (pode variar de 1 a 6)\n",
    "# <p></p> : Parágrafo\n",
    "# <div></div> : Conteudo genérico"
   ]
  },
  {
   "cell_type": "code",
   "execution_count": 4,
   "id": "bc3b501d",
   "metadata": {},
   "outputs": [],
   "source": [
    "# <a target=\"_blank\" href=\"link\"></a>\n",
    "# <span></span> : Conteudo genérico em linha\n",
    "# <table></table> : Tabela\n",
    "# <ul></ul> : Lista não numerada\n",
    "# <ol></ol> : Lista numerada\n",
    "# <li></li> : Elemento da lista (<ul> ou <ol>)\n",
    "# <img width=\"200px\"src=\"diretorio_do_pc.png\" alt=\"descrição da imagem\"> : Imagem"
   ]
  },
  {
   "cell_type": "markdown",
   "id": "db182cef",
   "metadata": {},
   "source": [
    "## 2. Protocolo HTTP\n",
    "- Protocolo: Padronização do envio e recebimento de informações.\n",
    "- HTTP: HyperText Transfer Protocol\n",
    "\n",
    "O protocolo HTTP é uma forma padronizada de fazer requisições e receber respostas na internet. Quando fazemos uma requisição na internet, o computador ira procurar qual computador possui aquele endereço que queremos acessar e quando ele acha esse computador, também chamado de servidor, o servidor nos enviará uma resposta.\n",
    "\n",
    "- O protocolo HTTP consiste em:\n",
    "    - Define o modo como sites são acessados na internet.\n",
    "    - Requisição -> resposta\n",
    "    \n",
    "    \n",
    "- As respostas das requisições são strings padronizadas, que consistem em:\n",
    "    - Código de status.\n",
    "    - Cabeçalho.\n",
    "    - Conteúdo."
   ]
  },
  {
   "cell_type": "markdown",
   "id": "9b7d866e",
   "metadata": {},
   "source": [
    "### 2.1 Metodos HTTP\n",
    "Há varios metodos HTTP que permitem que façamos varias coisas, abaixo temos alguns:\n",
    "\n",
    "- GET: Solicita um recurso para o servidor (acessar uma página da web, por exemplo)\n",
    "- POST: Enviamos uma informação para o servidor. (cadastro de uma conta em um site)"
   ]
  },
  {
   "cell_type": "markdown",
   "id": "85025cb1",
   "metadata": {},
   "source": [
    "### 2.2 Códigos de status\n",
    "Os codigos de status são divididos em familias, abaixo temos alguns exemplos:\n",
    "- Familia: Descrição\n",
    "    - Informativo (1xx): Repostas sem conteúdo, contendo apenas informações sobre a comunicação.\n",
    "    - Sucesso (2xx): A mensagem chegou ao servidor e era válida.\n",
    "    - Redirecionamento: (3xx): O recurso buscado está em outro servidor.\n",
    "    - Erro do cliente (4xx): A requisição possui algum erro.\n",
    "    - Erro do servidor (5xx): O servidor não pode atender a requisição."
   ]
  },
  {
   "cell_type": "markdown",
   "id": "76a0f43f",
   "metadata": {},
   "source": [
    "## 3. Biblioteca: requests\n",
    "Para poder fazer GETs e POSTs, usaremos a biblioteca requests."
   ]
  },
  {
   "cell_type": "markdown",
   "id": "f76dd4c6",
   "metadata": {},
   "source": [
    "### 3.1 Requests: GET"
   ]
  },
  {
   "cell_type": "code",
   "execution_count": 2,
   "id": "e2ca2bcd",
   "metadata": {},
   "outputs": [
    {
     "name": "stdout",
     "output_type": "stream",
     "text": [
      "200 \n",
      "\n",
      "\n"
     ]
    }
   ],
   "source": [
    "import requests\n",
    "\n",
    "try:\n",
    "    req = requests.get(\"https://gudecks.com/meta/match-results\")\n",
    "except Exception as erro:\n",
    "    print(\"DEU ERRO: \", erro)\n",
    "\n",
    "print(req.status_code, \"\\n\\n\") # Status do servidor\n",
    "# print(req.headers, '\\n\\n') # Cabeçalho, informações com relação a propria requisição (exemplo: data)\n",
    "# print(req.content, '\\n\\n') # Todo o codigo html da pagina\n",
    "# print(req.text) # Todo o codigo html da pagina na forma de txt"
   ]
  },
  {
   "cell_type": "markdown",
   "id": "ec863c8f",
   "metadata": {},
   "source": [
    "## 4. Biblioteca: BeautifulSoup\n",
    "O BeautifulSoup é uma biblioteca que nos ajuda a visualizar as informações que recebemos nos requests."
   ]
  },
  {
   "cell_type": "code",
   "execution_count": 6,
   "id": "75a85ca1",
   "metadata": {},
   "outputs": [
    {
     "name": "stdout",
     "output_type": "stream",
     "text": [
      "<class 'bs4.BeautifulSoup'>\n"
     ]
    }
   ],
   "source": [
    "import requests\n",
    "from bs4 import BeautifulSoup\n",
    "\n",
    "try:\n",
    "    req = requests.get(\"https://g1.globo.com/\")\n",
    "except Exception as erro:\n",
    "    print(\"DEU ERRO: \", erro)\n",
    "    \n",
    "content = req.content # conteudo do site\n",
    "\n",
    "site = BeautifulSoup(content, 'html.parser')\n",
    "\n",
    "# print(site) #: site inteiro\n",
    "# print(site.prettify()) #: site inteiro, entretanto mais bonito\n",
    "print(type(site))"
   ]
  },
  {
   "cell_type": "markdown",
   "id": "e03d41e2",
   "metadata": {},
   "source": [
    "### 4.1 BeautifulSoup: find\n",
    "Para encontrar alguma \"div\" dentro do site, usamos o metodo \"find\" de objetos \"bs4.BeautifulSoup\". (Abaixo estamos encontrando uma noticia especifica dentro do site)"
   ]
  },
  {
   "cell_type": "code",
   "execution_count": 12,
   "id": "131f0cda",
   "metadata": {},
   "outputs": [
    {
     "name": "stdout",
     "output_type": "stream",
     "text": [
      "<div class=\"feed-post-body\">\n",
      " <div class=\"feed-post-header\">\n",
      " </div>\n",
      " <div class=\"feed-post-body-title gui-color-primary gui-color-hover\">\n",
      "  <div class=\"_evt\">\n",
      "   <a class=\"feed-post-link gui-color-primary gui-color-hover\" elementtiming=\"text-ssr\" href=\"https://g1.globo.com/mundo/noticia/2022/03/02/assembleia-geral-da-onu-aprova-resolucao-contra-invasao-da-russia-pela-ucrania.ghtml\">\n",
      "    Com apoio do Brasil, ONU aprova resolução contra invasão russa\n",
      "   </a>\n",
      "  </div>\n",
      " </div>\n",
      " <div class=\"feed-media-wrapper\">\n",
      "  <a class=\"feed-post-figure-link gui-image-hover\" href=\"https://g1.globo.com/mundo/noticia/2022/03/02/assembleia-geral-da-onu-aprova-resolucao-contra-invasao-da-russia-pela-ucrania.ghtml\">\n",
      "   <div class=\"bstn-fd-item-cover\">\n",
      "    <picture class=\"bstn-fd-cover-picture\">\n",
      "     <img alt=\"Foto: (Eduardo Munoz/Reuters)\" class=\"bstn-fd-picture-image\" elementtiming=\"image-ssr\" loading=\"lazy\" sizes=\"(min-width: 540px) 50vw, (min-width: 900px) 30vw, 100vw\" src=\"https://s2.glbimg.com/RI1ZgWDuV4bmR6VWmTlwRh0LVIg=/0x410:5472x3488/540x304/smart/filters:max_age(3600)/https://i.s3.glbimg.com/v1/AUTH_59edd422c0c84a879bd37670ae4f538a/internal_photos/bs/2022/M/q/UTbadBTHACOoClBhBrKA/2022-03-02t171508z-1576234151-rc2fus9m321f-rtrmadp-3-ukraine-crisis-un.jpg\" srcset=\"https://s2.glbimg.com/RI1ZgWDuV4bmR6VWmTlwRh0LVIg=/0x410:5472x3488/540x304/smart/filters:max_age(3600)/https://i.s3.glbimg.com/v1/AUTH_59edd422c0c84a879bd37670ae4f538a/internal_photos/bs/2022/M/q/UTbadBTHACOoClBhBrKA/2022-03-02t171508z-1576234151-rc2fus9m321f-rtrmadp-3-ukraine-crisis-un.jpg 540w,https://s2.glbimg.com/oWHpcEML1cSiemL2NroE3E6gNhY=/0x410:5472x3488/810x456/smart/filters:max_age(3600)/https://i.s3.glbimg.com/v1/AUTH_59edd422c0c84a879bd37670ae4f538a/internal_photos/bs/2022/M/q/UTbadBTHACOoClBhBrKA/2022-03-02t171508z-1576234151-rc2fus9m321f-rtrmadp-3-ukraine-crisis-un.jpg 810w,https://s2.glbimg.com/WVb4mnwUhEqcWKcxRw9TuDWgQBQ=/0x410:5472x3488/1080x608/smart/filters:max_age(3600)/https://i.s3.glbimg.com/v1/AUTH_59edd422c0c84a879bd37670ae4f538a/internal_photos/bs/2022/M/q/UTbadBTHACOoClBhBrKA/2022-03-02t171508z-1576234151-rc2fus9m321f-rtrmadp-3-ukraine-crisis-un.jpg 1080w\" title=\"Foto: (Eduardo Munoz/Reuters)\"/>\n",
      "    </picture>\n",
      "   </div>\n",
      "  </a>\n",
      " </div>\n",
      " <div class=\"feed-post-metadata\">\n",
      "  <span class=\"feed-post-datetime\">\n",
      "   Há 6 horas\n",
      "  </span>\n",
      "  <span class=\"feed-post-metadata-section\">\n",
      "   Mundo\n",
      "  </span>\n",
      " </div>\n",
      " <div class=\"bstn-related\">\n",
      "  <ul class=\"bstn-relateditems\">\n",
      "   <li class=\"bstn-relateditem\">\n",
      "    <div class=\"bstn-fd-relatedtext\">\n",
      "     <a class=\"gui-color-primary gui-color-hover feed-post-body-title bstn-relatedtext\" href=\"https://g1.globo.com/mundo/noticia/2022/03/02/onu-aprova-resolucao-contra-a-invasao-russa-da-ucrania-como-votaram-os-paises.ghtml\">\n",
      "      Brasil vota a favor, e China se abstém; confira todos os votos\n",
      "     </a>\n",
      "     <div class=\"feed-post-metadata\">\n",
      "      <span class=\"feed-post-datetime\">\n",
      "       Há 6 horas\n",
      "      </span>\n",
      "     </div>\n",
      "    </div>\n",
      "   </li>\n",
      "   <li class=\"bstn-relateditem\">\n",
      "    <div class=\"bstn-fd-relatedtext\">\n",
      "     <a class=\"gui-color-primary gui-color-hover feed-post-body-title bstn-relatedtext\" href=\"https://g1.globo.com/mundo/ucrania-russia/noticia/2022/03/02/conflito-entre-russia-e-ucrania-qual-a-posicao-do-brasil.ghtml\">\n",
      "      Qual a posição do Brasil? Apesar de apoiar resolução, país evita criticar Putin\n",
      "     </a>\n",
      "     <div class=\"feed-post-metadata\">\n",
      "      <span class=\"feed-post-datetime\">\n",
      "       Há 6 horas\n",
      "      </span>\n",
      "     </div>\n",
      "    </div>\n",
      "   </li>\n",
      "  </ul>\n",
      " </div>\n",
      "</div> \n",
      "\n",
      "\n",
      "\n",
      "<class 'bs4.element.Tag'>\n"
     ]
    }
   ],
   "source": [
    "import requests\n",
    "from bs4 import BeautifulSoup\n",
    "\n",
    "try:\n",
    "    req = requests.get(\"https://g1.globo.com/\")\n",
    "except Exception as erro:\n",
    "    print(\"DEU ERRO: \", erro)\n",
    "    \n",
    "content = req.content # conteudo do site\n",
    "\n",
    "site = BeautifulSoup(content, 'html.parser')\n",
    "\n",
    "noticia = site.find('div', attrs={'class': 'feed-post-body'}) # O metodo find encontra o primeiro termo correspondente.\n",
    "\n",
    "# print(noticia, '\\n\\n\\n') #: Todo o HTML da noticia\n",
    "print(noticia.prettify(), '\\n\\n\\n') #: Todo o HTML da noticia, entretanto mais bonita\n",
    "print(type(noticia)) #: <class 'bs4.element.Tag'>"
   ]
  },
  {
   "cell_type": "markdown",
   "id": "96830a79",
   "metadata": {},
   "source": [
    "#### 4.1.1 BeautifulSoup: bs4.element.Tag\n",
    "O objeto \"bs4.element.Tag\" funciona como um dicionario e podemos acessar os atributos da \"tag\" com chaves"
   ]
  },
  {
   "cell_type": "code",
   "execution_count": 13,
   "id": "3d246b64",
   "metadata": {},
   "outputs": [
    {
     "name": "stdout",
     "output_type": "stream",
     "text": [
      "<a class=\"feed-post-link gui-color-primary gui-color-hover\" elementtiming=\"text-ssr\" href=\"https://g1.globo.com/mundo/noticia/2022/03/02/assembleia-geral-da-onu-aprova-resolucao-contra-invasao-da-russia-pela-ucrania.ghtml\">Com apoio do Brasil, ONU aprova resolução contra invasão russa</a> \n",
      "\n",
      "\n",
      "classe:  ['feed-post-link', 'gui-color-primary', 'gui-color-hover']\n",
      "link:  https://g1.globo.com/mundo/noticia/2022/03/02/assembleia-geral-da-onu-aprova-resolucao-contra-invasao-da-russia-pela-ucrania.ghtml\n",
      "texto:  Com apoio do Brasil, ONU aprova resolução contra invasão russa\n"
     ]
    }
   ],
   "source": [
    "import requests\n",
    "from bs4 import BeautifulSoup\n",
    "\n",
    "try:\n",
    "    req = requests.get(\"https://g1.globo.com/\")\n",
    "except Exception as erro:\n",
    "    print(\"DEU ERRO: \", erro)\n",
    "    \n",
    "content = req.content # conteudo do site\n",
    "\n",
    "site = BeautifulSoup(content, 'html.parser')\n",
    "\n",
    "noticia = site.find('div', attrs={'class': 'feed-post-body'}) # O metodo find encontra o primeiro termo correspondente.\n",
    "\n",
    "titulo = noticia.find('a', attrs={'class':'feed-post-link'})\n",
    "\n",
    "print(titulo, '\\n\\n')\n",
    "print('classe: ', titulo['class'])\n",
    "print('link: ', titulo['href'])\n",
    "print('texto: ', titulo.text)\n"
   ]
  },
  {
   "cell_type": "markdown",
   "id": "44175450",
   "metadata": {},
   "source": [
    "### 4.2 Encontrando uma noticia e o titulo da noticia"
   ]
  },
  {
   "cell_type": "code",
   "execution_count": 35,
   "id": "0bea7d5f",
   "metadata": {},
   "outputs": [
    {
     "name": "stdout",
     "output_type": "stream",
     "text": [
      "Saiba como ajudar as vítimas da chuva na Região Serrana do RJ\n"
     ]
    }
   ],
   "source": [
    "import requests\n",
    "from bs4 import BeautifulSoup\n",
    "\n",
    "try:\n",
    "    req = requests.get(\"https://g1.globo.com/\")\n",
    "except Exception as erro:\n",
    "    print(\"DEU ERRO: \", erro)\n",
    "    \n",
    "content = req.content # conteudo do site\n",
    "\n",
    "site = BeautifulSoup(content, 'html.parser')\n",
    "\n",
    "noticia = site.find('div', attrs={'class': 'feed-post-body'}) # O metodo find encontra o primeiro termo correspondente.\n",
    "\n",
    "titulo = noticia.find('a', attrs={'class': 'feed-post-link gui-color-primary gui-color-hover'})\n",
    "\n",
    "print(titulo.text)"
   ]
  },
  {
   "cell_type": "markdown",
   "id": "65650bc7",
   "metadata": {},
   "source": [
    "### 4.3 BeautifulSoup: findAll\n",
    "Para encontrar todas as \"div\" dentro do site, usamos o metodo \"findAll\" de objetos \"bs4.BeautifulSoup\". (Abaixo estamos encontrando todas as noticias especificas dentro do site)"
   ]
  },
  {
   "cell_type": "code",
   "execution_count": 21,
   "id": "247b85cc",
   "metadata": {},
   "outputs": [
    {
     "name": "stdout",
     "output_type": "stream",
     "text": [
      "<class 'bs4.element.ResultSet'>\n"
     ]
    }
   ],
   "source": [
    "import requests\n",
    "from bs4 import BeautifulSoup\n",
    "\n",
    "try:\n",
    "    req = requests.get(\"https://g1.globo.com/\")\n",
    "except Exception as erro:\n",
    "    print(\"DEU ERRO: \", erro)\n",
    "    \n",
    "content = req.content # conteudo do site\n",
    "\n",
    "site = BeautifulSoup(content, 'html.parser')\n",
    "\n",
    "noticias = site.findAll('div', attrs={'class': 'feed-post-body'}) # O metodo findAll encontra todos os termos correspondentes.\n",
    "\n",
    "# print(noticia[0].prettify()) #: Todo o HTML da noticia\n",
    "print(type(noticia))\n"
   ]
  },
  {
   "cell_type": "markdown",
   "id": "a47c036c",
   "metadata": {},
   "source": [
    "O objeto \"bs4.element.ResultSet\" é um objeto iteravel."
   ]
  },
  {
   "cell_type": "markdown",
   "id": "66883889",
   "metadata": {},
   "source": [
    "### 4.4 Programa que pega informações sobre noticias\n",
    "- Esse programa pega o titulo, subtitulo e link."
   ]
  },
  {
   "cell_type": "code",
   "execution_count": 22,
   "id": "1c3f60e7",
   "metadata": {},
   "outputs": [
    {
     "data": {
      "text/html": [
       "<div>\n",
       "<style scoped>\n",
       "    .dataframe tbody tr th:only-of-type {\n",
       "        vertical-align: middle;\n",
       "    }\n",
       "\n",
       "    .dataframe tbody tr th {\n",
       "        vertical-align: top;\n",
       "    }\n",
       "\n",
       "    .dataframe thead th {\n",
       "        text-align: right;\n",
       "    }\n",
       "</style>\n",
       "<table border=\"1\" class=\"dataframe\">\n",
       "  <thead>\n",
       "    <tr style=\"text-align: right;\">\n",
       "      <th></th>\n",
       "      <th>Titulo</th>\n",
       "      <th>Subtitulo</th>\n",
       "      <th>Link</th>\n",
       "    </tr>\n",
       "  </thead>\n",
       "  <tbody>\n",
       "    <tr>\n",
       "      <th>0</th>\n",
       "      <td>Com voto do Brasil, ONU aprova resolução contr...</td>\n",
       "      <td>None</td>\n",
       "      <td>https://g1.globo.com/mundo/noticia/2022/03/02/...</td>\n",
       "    </tr>\n",
       "    <tr>\n",
       "      <th>1</th>\n",
       "      <td>VEJA O VOTO DE TODOS OS PAÍSES NA ONU</td>\n",
       "      <td>None</td>\n",
       "      <td>https://g1.globo.com/mundo/noticia/2022/03/02/...</td>\n",
       "    </tr>\n",
       "    <tr>\n",
       "      <th>2</th>\n",
       "      <td>Rússia e Ucrânia apresentam guerra de narrativ...</td>\n",
       "      <td>None</td>\n",
       "      <td>https://g1.globo.com/mundo/noticia/2022/03/02/...</td>\n",
       "    </tr>\n",
       "    <tr>\n",
       "      <th>3</th>\n",
       "      <td>GLOBONEWS: comentaristas analisam posição do B...</td>\n",
       "      <td>None</td>\n",
       "      <td>https://g1.globo.com/globonews/ao-vivo/globone...</td>\n",
       "    </tr>\n",
       "    <tr>\n",
       "      <th>4</th>\n",
       "      <td>O rastro de destruição deixado por Putin e a r...</td>\n",
       "      <td>Artes, gráficos e vídeos mostram o cerco russo...</td>\n",
       "      <td>https://especiaisg1.globo/mundo/guerra-russia-...</td>\n",
       "    </tr>\n",
       "    <tr>\n",
       "      <th>5</th>\n",
       "      <td>VÍDEO: ucranianos formam barricada para bloque...</td>\n",
       "      <td>None</td>\n",
       "      <td>https://g1.globo.com/globonews/jornal-globonew...</td>\n",
       "    </tr>\n",
       "    <tr>\n",
       "      <th>6</th>\n",
       "      <td>Por que a Rússia ainda não tomou Kiev? Qual a ...</td>\n",
       "      <td>None</td>\n",
       "      <td>https://g1.globo.com/mundo/ucrania-russia/noti...</td>\n",
       "    </tr>\n",
       "    <tr>\n",
       "      <th>7</th>\n",
       "      <td>Brasil ultrapassa 650 mil mortos por Covid; mé...</td>\n",
       "      <td>None</td>\n",
       "      <td>https://g1.globo.com/saude/coronavirus/noticia...</td>\n",
       "    </tr>\n",
       "    <tr>\n",
       "      <th>8</th>\n",
       "      <td>Com pandemia, aluno do ensino médio de SP tem ...</td>\n",
       "      <td>Defasagem é de 6 anos na rede estadual, e 96,6...</td>\n",
       "      <td>https://g1.globo.com/sp/sao-paulo/educacao/not...</td>\n",
       "    </tr>\n",
       "  </tbody>\n",
       "</table>\n",
       "</div>"
      ],
      "text/plain": [
       "                                              Titulo  \\\n",
       "0  Com voto do Brasil, ONU aprova resolução contr...   \n",
       "1              VEJA O VOTO DE TODOS OS PAÍSES NA ONU   \n",
       "2  Rússia e Ucrânia apresentam guerra de narrativ...   \n",
       "3  GLOBONEWS: comentaristas analisam posição do B...   \n",
       "4  O rastro de destruição deixado por Putin e a r...   \n",
       "5  VÍDEO: ucranianos formam barricada para bloque...   \n",
       "6  Por que a Rússia ainda não tomou Kiev? Qual a ...   \n",
       "7  Brasil ultrapassa 650 mil mortos por Covid; mé...   \n",
       "8  Com pandemia, aluno do ensino médio de SP tem ...   \n",
       "\n",
       "                                           Subtitulo  \\\n",
       "0                                               None   \n",
       "1                                               None   \n",
       "2                                               None   \n",
       "3                                               None   \n",
       "4  Artes, gráficos e vídeos mostram o cerco russo...   \n",
       "5                                               None   \n",
       "6                                               None   \n",
       "7                                               None   \n",
       "8  Defasagem é de 6 anos na rede estadual, e 96,6...   \n",
       "\n",
       "                                                Link  \n",
       "0  https://g1.globo.com/mundo/noticia/2022/03/02/...  \n",
       "1  https://g1.globo.com/mundo/noticia/2022/03/02/...  \n",
       "2  https://g1.globo.com/mundo/noticia/2022/03/02/...  \n",
       "3  https://g1.globo.com/globonews/ao-vivo/globone...  \n",
       "4  https://especiaisg1.globo/mundo/guerra-russia-...  \n",
       "5  https://g1.globo.com/globonews/jornal-globonew...  \n",
       "6  https://g1.globo.com/mundo/ucrania-russia/noti...  \n",
       "7  https://g1.globo.com/saude/coronavirus/noticia...  \n",
       "8  https://g1.globo.com/sp/sao-paulo/educacao/not...  "
      ]
     },
     "execution_count": 22,
     "metadata": {},
     "output_type": "execute_result"
    }
   ],
   "source": [
    "import requests\n",
    "from bs4 import BeautifulSoup\n",
    "import pandas as pd\n",
    "import numpy as np\n",
    "\n",
    "\n",
    "try:\n",
    "    req = requests.get('https://g1.globo.com/')\n",
    "except Exception as erro:\n",
    "    print(\"DEU ERRO: \", erro)\n",
    "\n",
    "content = req.content\n",
    "\n",
    "site = BeautifulSoup(content, 'html.parser')\n",
    "\n",
    "noticias = site.findAll('div', attrs={'class':'feed-post-body'})\n",
    "\n",
    "titulo = []\n",
    "subtitulo = []\n",
    "links = []\n",
    "for noticia in noticias:\n",
    "    title = noticia.find('a', attrs={'class':'feed-post-link'})\n",
    "    subtitle = noticia.find('div', attrs={'class':'feed-post-body-resumo'})\n",
    "    subtitle = noticia.find('div', attrs={'class':'feed-post-body-resumo'}).text if subtitle != None else None\n",
    "    link = title['href']\n",
    "#    if subtitle != None: # A linha acima foi comprimida para ocultar a condição (não é didatico, mas funciona bem)\n",
    "#        subtitle = subtitle.text\n",
    "        \n",
    "    titulo.append(title.text)\n",
    "    subtitulo.append(subtitle)\n",
    "    links.append(link)\n",
    "    \n",
    "df = pd.DataFrame({'Titulo': titulo, 'Subtitulo': subtitulo, 'Link': links} )\n",
    "df"
   ]
  },
  {
   "cell_type": "markdown",
   "id": "34c57936",
   "metadata": {},
   "source": [
    "#### 4.4.1  Iterando tags: Observação importante\n",
    "Quando iteramos uma tag, passamos por todas as tags dentro dela. (muito importante)"
   ]
  },
  {
   "cell_type": "markdown",
   "id": "f57dd276",
   "metadata": {},
   "source": [
    "## 5. Programa que busca de forma automatizada produtos no mercado livre\n",
    "Iremos fazer uma pesquisa no mercado livre e fazer uma lista com informações. Iremos pegar o titulo, link e preço dos produtos da pesquisa. (LEIA A ANOTAÇÃO ABAIXO)\n",
    "- Nesse exemplo nos iteramos uma \"tag\", passando por cada \"tag\" dela dentro do \"for\", está assinalado no código essa parte."
   ]
  },
  {
   "cell_type": "code",
   "execution_count": 33,
   "id": "b2946a69",
   "metadata": {
    "scrolled": false
   },
   "outputs": [
    {
     "name": "stdout",
     "output_type": "stream",
     "text": [
      "Qual produto você deseja? coca\n"
     ]
    },
    {
     "data": {
      "text/html": [
       "<div>\n",
       "<style scoped>\n",
       "    .dataframe tbody tr th:only-of-type {\n",
       "        vertical-align: middle;\n",
       "    }\n",
       "\n",
       "    .dataframe tbody tr th {\n",
       "        vertical-align: top;\n",
       "    }\n",
       "\n",
       "    .dataframe thead th {\n",
       "        text-align: right;\n",
       "    }\n",
       "</style>\n",
       "<table border=\"1\" class=\"dataframe\">\n",
       "  <thead>\n",
       "    <tr style=\"text-align: right;\">\n",
       "      <th></th>\n",
       "      <th>Nomes</th>\n",
       "      <th>Links</th>\n",
       "      <th>Valores</th>\n",
       "    </tr>\n",
       "  </thead>\n",
       "  <tbody>\n",
       "    <tr>\n",
       "      <th>0</th>\n",
       "      <td>Refrigerante Coca-Cola Lata 220ml</td>\n",
       "      <td>https://www.mercadolivre.com.br/refrigerante-c...</td>\n",
       "      <td>R$2,29</td>\n",
       "    </tr>\n",
       "    <tr>\n",
       "      <th>1</th>\n",
       "      <td>Refrigerante de Laranja Fanta Lata 220ml</td>\n",
       "      <td>https://www.mercadolivre.com.br/refrigerante-d...</td>\n",
       "      <td>R$2,19</td>\n",
       "    </tr>\n",
       "    <tr>\n",
       "      <th>2</th>\n",
       "      <td>Refrigerante Coca-cola Zero Lata - 350ml</td>\n",
       "      <td>https://produto.mercadolivre.com.br/MLB-192763...</td>\n",
       "      <td>R$3,39</td>\n",
       "    </tr>\n",
       "    <tr>\n",
       "      <th>3</th>\n",
       "      <td>Coco Ralado Desidratado Sococo Pacote 100g</td>\n",
       "      <td>https://www.mercadolivre.com.br/coco-ralado-de...</td>\n",
       "      <td>R$4,14</td>\n",
       "    </tr>\n",
       "    <tr>\n",
       "      <th>4</th>\n",
       "      <td>Refrigerante sem Açúcar Coca-Cola Lata 220ml</td>\n",
       "      <td>https://www.mercadolivre.com.br/refrigerante-s...</td>\n",
       "      <td>R$2,20</td>\n",
       "    </tr>\n",
       "    <tr>\n",
       "      <th>5</th>\n",
       "      <td>Refrigerante Limão Sprite Lata 350ml</td>\n",
       "      <td>https://www.mercadolivre.com.br/refrigerante-l...</td>\n",
       "      <td>R$3,29</td>\n",
       "    </tr>\n",
       "    <tr>\n",
       "      <th>6</th>\n",
       "      <td>Água de Coco Sococo 1 litro</td>\n",
       "      <td>https://www.mercadolivre.com.br/agua-de-coco-s...</td>\n",
       "      <td>R$8,20</td>\n",
       "    </tr>\n",
       "    <tr>\n",
       "      <th>7</th>\n",
       "      <td>Refrigerante Coca-cola Zero 350ml Unid - Original</td>\n",
       "      <td>https://produto.mercadolivre.com.br/MLB-185086...</td>\n",
       "      <td>R$3,39</td>\n",
       "    </tr>\n",
       "    <tr>\n",
       "      <th>8</th>\n",
       "      <td>Refrigerante Coca-Cola Garrafa 250ml</td>\n",
       "      <td>https://www.mercadolivre.com.br/refrigerante-c...</td>\n",
       "      <td>R$4,90</td>\n",
       "    </tr>\n",
       "    <tr>\n",
       "      <th>9</th>\n",
       "      <td>Óleo extra virgem Copra em pote sem glúten 1 l</td>\n",
       "      <td>https://www.mercadolivre.com.br/oleo-extra-vir...</td>\n",
       "      <td>R$49,40</td>\n",
       "    </tr>\n",
       "    <tr>\n",
       "      <th>10</th>\n",
       "      <td>Refrigerante Coca-Cola Sem Açúcar Pet 200ml</td>\n",
       "      <td>https://www.mercadolivre.com.br/refrigerante-c...</td>\n",
       "      <td>R$1,65</td>\n",
       "    </tr>\n",
       "    <tr>\n",
       "      <th>11</th>\n",
       "      <td>Refrigerante Coca-Cola Pet 2 Litros</td>\n",
       "      <td>https://www.mercadolivre.com.br/refrigerante-c...</td>\n",
       "      <td>R$8,79</td>\n",
       "    </tr>\n",
       "    <tr>\n",
       "      <th>12</th>\n",
       "      <td>Água de Coco Kero Coco 200ml</td>\n",
       "      <td>https://www.mercadolivre.com.br/agua-de-coco-k...</td>\n",
       "      <td>R$2,19</td>\n",
       "    </tr>\n",
       "    <tr>\n",
       "      <th>13</th>\n",
       "      <td>Refrigerante Coca-Cola sem Açúcar Pet 1,5 Litro</td>\n",
       "      <td>https://www.mercadolivre.com.br/refrigerante-c...</td>\n",
       "      <td>R$7,19</td>\n",
       "    </tr>\n",
       "    <tr>\n",
       "      <th>14</th>\n",
       "      <td>Refrigerante Coca-Cola sem Açúcar Pet 600ml</td>\n",
       "      <td>https://www.mercadolivre.com.br/refrigerante-c...</td>\n",
       "      <td>R$4,45</td>\n",
       "    </tr>\n",
       "    <tr>\n",
       "      <th>15</th>\n",
       "      <td>Leite de Coco Tradicional Sococo Vidro 200ml</td>\n",
       "      <td>https://www.mercadolivre.com.br/leite-de-coco-...</td>\n",
       "      <td>R$3,99</td>\n",
       "    </tr>\n",
       "    <tr>\n",
       "      <th>16</th>\n",
       "      <td>Refrigerante Coca-Cola sem Açúcar Pet 2 Litros</td>\n",
       "      <td>https://www.mercadolivre.com.br/refrigerante-c...</td>\n",
       "      <td>R$8,79</td>\n",
       "    </tr>\n",
       "    <tr>\n",
       "      <th>17</th>\n",
       "      <td>Refrigerante Coca-Cola Pet 1,5 Litro</td>\n",
       "      <td>https://www.mercadolivre.com.br/refrigerante-c...</td>\n",
       "      <td>R$7,09</td>\n",
       "    </tr>\n",
       "    <tr>\n",
       "      <th>18</th>\n",
       "      <td>Suplemento em  pó ProFit Laboratórios  Isolate...</td>\n",
       "      <td>https://www.mercadolivre.com.br/suplemento-em-...</td>\n",
       "      <td>R$149</td>\n",
       "    </tr>\n",
       "    <tr>\n",
       "      <th>19</th>\n",
       "      <td>Refrigerante sem Açúcar Coca-Cola Lata 310ml</td>\n",
       "      <td>https://www.mercadolivre.com.br/refrigerante-s...</td>\n",
       "      <td>R$2,85</td>\n",
       "    </tr>\n",
       "    <tr>\n",
       "      <th>20</th>\n",
       "      <td>Refrigerante Coca-Cola Lata 310ml</td>\n",
       "      <td>https://www.mercadolivre.com.br/refrigerante-c...</td>\n",
       "      <td>R$2,85</td>\n",
       "    </tr>\n",
       "    <tr>\n",
       "      <th>21</th>\n",
       "      <td>Pastilha Coca Cola Tic Tac 14,5g</td>\n",
       "      <td>https://www.mercadolivre.com.br/pastilha-coca-...</td>\n",
       "      <td>R$2,49</td>\n",
       "    </tr>\n",
       "    <tr>\n",
       "      <th>22</th>\n",
       "      <td>Pack Refrigerante Coca-Cola Garrafa 6 Unidades...</td>\n",
       "      <td>https://www.mercadolivre.com.br/pack-refrigera...</td>\n",
       "      <td>R$26,90</td>\n",
       "    </tr>\n",
       "    <tr>\n",
       "      <th>23</th>\n",
       "      <td>Refrigerante Coca-Cola Zero Garrafa 250ml</td>\n",
       "      <td>https://www.mercadolivre.com.br/refrigerante-c...</td>\n",
       "      <td>R$4,90</td>\n",
       "    </tr>\n",
       "    <tr>\n",
       "      <th>24</th>\n",
       "      <td>Água de Coco Kero Coco Kids 200ml</td>\n",
       "      <td>https://www.mercadolivre.com.br/agua-de-coco-k...</td>\n",
       "      <td>R$2,74</td>\n",
       "    </tr>\n",
       "    <tr>\n",
       "      <th>25</th>\n",
       "      <td>Refrigerante Coca-Cola Plus Café Espresso Lata...</td>\n",
       "      <td>https://www.mercadolivre.com.br/refrigerante-c...</td>\n",
       "      <td>R$1,85</td>\n",
       "    </tr>\n",
       "    <tr>\n",
       "      <th>26</th>\n",
       "      <td>Refrigerante Coca-Cola Pet 600ml</td>\n",
       "      <td>https://www.mercadolivre.com.br/refrigerante-c...</td>\n",
       "      <td>R$4,45</td>\n",
       "    </tr>\n",
       "    <tr>\n",
       "      <th>27</th>\n",
       "      <td>Suplemento em  barra Integralmédica  Protein C...</td>\n",
       "      <td>https://www.mercadolivre.com.br/suplemento-em-...</td>\n",
       "      <td>R$60,80</td>\n",
       "    </tr>\n",
       "    <tr>\n",
       "      <th>28</th>\n",
       "      <td>Refrigerante Coca Cola Zero Açúcar Novo Sabor ...</td>\n",
       "      <td>https://produto.mercadolivre.com.br/MLB-192559...</td>\n",
       "      <td>R$3,90</td>\n",
       "    </tr>\n",
       "    <tr>\n",
       "      <th>29</th>\n",
       "      <td>Refrigerante Coca-Cola sem Açúcar Lata 350ml</td>\n",
       "      <td>https://www.mercadolivre.com.br/refrigerante-c...</td>\n",
       "      <td>R$3,29</td>\n",
       "    </tr>\n",
       "    <tr>\n",
       "      <th>30</th>\n",
       "      <td>Biscoito Coco Tostines Pacote 160g</td>\n",
       "      <td>https://www.mercadolivre.com.br/biscoito-coco-...</td>\n",
       "      <td>R$2,95</td>\n",
       "    </tr>\n",
       "    <tr>\n",
       "      <th>31</th>\n",
       "      <td>Pack Refrigerante Café Espresso Coca-Cola Mini...</td>\n",
       "      <td>https://www.mercadolivre.com.br/pack-refrigera...</td>\n",
       "      <td>R$13,79</td>\n",
       "    </tr>\n",
       "    <tr>\n",
       "      <th>32</th>\n",
       "      <td>Refrigerante Coca-cola 220ml Unid - Original</td>\n",
       "      <td>https://produto.mercadolivre.com.br/MLB-185088...</td>\n",
       "      <td>R$2,29</td>\n",
       "    </tr>\n",
       "    <tr>\n",
       "      <th>33</th>\n",
       "      <td>Refrigerante Coca-Cola Sem Açúcar 1 Litro</td>\n",
       "      <td>https://www.mercadolivre.com.br/refrigerante-c...</td>\n",
       "      <td>R$5,99</td>\n",
       "    </tr>\n",
       "    <tr>\n",
       "      <th>34</th>\n",
       "      <td>Doce de Leite Viçosa 400g</td>\n",
       "      <td>https://www.mercadolivre.com.br/doce-de-leite-...</td>\n",
       "      <td>R$19,79</td>\n",
       "    </tr>\n",
       "    <tr>\n",
       "      <th>35</th>\n",
       "      <td>Refrigerante Coca-Cola Light Lata 310ml</td>\n",
       "      <td>https://www.mercadolivre.com.br/refrigerante-c...</td>\n",
       "      <td>R$2,85</td>\n",
       "    </tr>\n",
       "    <tr>\n",
       "      <th>36</th>\n",
       "      <td>Refrigerante Coca Cola Café Espresso Lata 220m...</td>\n",
       "      <td>https://produto.mercadolivre.com.br/MLB-181798...</td>\n",
       "      <td>R$2,45</td>\n",
       "    </tr>\n",
       "    <tr>\n",
       "      <th>37</th>\n",
       "      <td>Óleo extra virgem Copra vidro sem glúten 500 ml</td>\n",
       "      <td>https://www.mercadolivre.com.br/oleo-extra-vir...</td>\n",
       "      <td>R$37,41</td>\n",
       "    </tr>\n",
       "    <tr>\n",
       "      <th>38</th>\n",
       "      <td>Refrigerante Coca-Cola Pet 1 Litro</td>\n",
       "      <td>https://www.mercadolivre.com.br/refrigerante-c...</td>\n",
       "      <td>R$5,99</td>\n",
       "    </tr>\n",
       "    <tr>\n",
       "      <th>39</th>\n",
       "      <td>Refrgerante Coca-cola Café 220ml Unid - Original</td>\n",
       "      <td>https://produto.mercadolivre.com.br/MLB-189244...</td>\n",
       "      <td>R$2,29</td>\n",
       "    </tr>\n",
       "    <tr>\n",
       "      <th>40</th>\n",
       "      <td>Energético Coco e Açaí Red Bull Lata 250ml The...</td>\n",
       "      <td>https://www.mercadolivre.com.br/energetico-coc...</td>\n",
       "      <td>R$10,19</td>\n",
       "    </tr>\n",
       "    <tr>\n",
       "      <th>41</th>\n",
       "      <td>Pack Refrigerante Coca-Cola Mini Garrafa 12 Un...</td>\n",
       "      <td>https://www.mercadolivre.com.br/pack-refrigera...</td>\n",
       "      <td>R$24,34</td>\n",
       "    </tr>\n",
       "    <tr>\n",
       "      <th>42</th>\n",
       "      <td>Refrigerante Coca-Cola Lata 350ml</td>\n",
       "      <td>https://www.mercadolivre.com.br/refrigerante-c...</td>\n",
       "      <td>R$3,29</td>\n",
       "    </tr>\n",
       "    <tr>\n",
       "      <th>43</th>\n",
       "      <td>Suplemento em  pó ProFit Laboratórios  Isolate...</td>\n",
       "      <td>https://www.mercadolivre.com.br/suplemento-em-...</td>\n",
       "      <td>R$149</td>\n",
       "    </tr>\n",
       "    <tr>\n",
       "      <th>44</th>\n",
       "      <td>Refrigerante Coca Cola De Vidro 250ml</td>\n",
       "      <td>https://produto.mercadolivre.com.br/MLB-185680...</td>\n",
       "      <td>R$5,25</td>\n",
       "    </tr>\n",
       "    <tr>\n",
       "      <th>45</th>\n",
       "      <td>Refrigerante de Guaraná Fanta Lata 350ml</td>\n",
       "      <td>https://www.mercadolivre.com.br/refrigerante-d...</td>\n",
       "      <td>R$2,95</td>\n",
       "    </tr>\n",
       "    <tr>\n",
       "      <th>46</th>\n",
       "      <td>Sabão Barra Artesanal Coco Ufe Pacote 500g 5 U...</td>\n",
       "      <td>https://www.mercadolivre.com.br/sabo-barra-art...</td>\n",
       "      <td>R$12,99</td>\n",
       "    </tr>\n",
       "    <tr>\n",
       "      <th>47</th>\n",
       "      <td>Refrigerante Coca-cola Zero 350ml Unid - Original</td>\n",
       "      <td>https://produto.mercadolivre.com.br/MLB-216641...</td>\n",
       "      <td>R$3,39</td>\n",
       "    </tr>\n",
       "    <tr>\n",
       "      <th>48</th>\n",
       "      <td>Refrigerante Coca-Cola + Fanta Laranja Pet 2 L...</td>\n",
       "      <td>https://www.mercadolivre.com.br/refrigerante-c...</td>\n",
       "      <td>R$14,95</td>\n",
       "    </tr>\n",
       "    <tr>\n",
       "      <th>49</th>\n",
       "      <td>Água de Coco Kero Coco 1 Litro</td>\n",
       "      <td>https://www.mercadolivre.com.br/agua-de-coco-k...</td>\n",
       "      <td>R$8,69</td>\n",
       "    </tr>\n",
       "  </tbody>\n",
       "</table>\n",
       "</div>"
      ],
      "text/plain": [
       "                                                Nomes  \\\n",
       "0                   Refrigerante Coca-Cola Lata 220ml   \n",
       "1            Refrigerante de Laranja Fanta Lata 220ml   \n",
       "2            Refrigerante Coca-cola Zero Lata - 350ml   \n",
       "3          Coco Ralado Desidratado Sococo Pacote 100g   \n",
       "4        Refrigerante sem Açúcar Coca-Cola Lata 220ml   \n",
       "5                Refrigerante Limão Sprite Lata 350ml   \n",
       "6                         Água de Coco Sococo 1 litro   \n",
       "7   Refrigerante Coca-cola Zero 350ml Unid - Original   \n",
       "8                Refrigerante Coca-Cola Garrafa 250ml   \n",
       "9      Óleo extra virgem Copra em pote sem glúten 1 l   \n",
       "10        Refrigerante Coca-Cola Sem Açúcar Pet 200ml   \n",
       "11                Refrigerante Coca-Cola Pet 2 Litros   \n",
       "12                       Água de Coco Kero Coco 200ml   \n",
       "13    Refrigerante Coca-Cola sem Açúcar Pet 1,5 Litro   \n",
       "14        Refrigerante Coca-Cola sem Açúcar Pet 600ml   \n",
       "15       Leite de Coco Tradicional Sococo Vidro 200ml   \n",
       "16     Refrigerante Coca-Cola sem Açúcar Pet 2 Litros   \n",
       "17               Refrigerante Coca-Cola Pet 1,5 Litro   \n",
       "18  Suplemento em  pó ProFit Laboratórios  Isolate...   \n",
       "19       Refrigerante sem Açúcar Coca-Cola Lata 310ml   \n",
       "20                  Refrigerante Coca-Cola Lata 310ml   \n",
       "21                   Pastilha Coca Cola Tic Tac 14,5g   \n",
       "22  Pack Refrigerante Coca-Cola Garrafa 6 Unidades...   \n",
       "23          Refrigerante Coca-Cola Zero Garrafa 250ml   \n",
       "24                  Água de Coco Kero Coco Kids 200ml   \n",
       "25  Refrigerante Coca-Cola Plus Café Espresso Lata...   \n",
       "26                   Refrigerante Coca-Cola Pet 600ml   \n",
       "27  Suplemento em  barra Integralmédica  Protein C...   \n",
       "28  Refrigerante Coca Cola Zero Açúcar Novo Sabor ...   \n",
       "29       Refrigerante Coca-Cola sem Açúcar Lata 350ml   \n",
       "30                 Biscoito Coco Tostines Pacote 160g   \n",
       "31  Pack Refrigerante Café Espresso Coca-Cola Mini...   \n",
       "32       Refrigerante Coca-cola 220ml Unid - Original   \n",
       "33          Refrigerante Coca-Cola Sem Açúcar 1 Litro   \n",
       "34                          Doce de Leite Viçosa 400g   \n",
       "35            Refrigerante Coca-Cola Light Lata 310ml   \n",
       "36  Refrigerante Coca Cola Café Espresso Lata 220m...   \n",
       "37    Óleo extra virgem Copra vidro sem glúten 500 ml   \n",
       "38                 Refrigerante Coca-Cola Pet 1 Litro   \n",
       "39   Refrgerante Coca-cola Café 220ml Unid - Original   \n",
       "40  Energético Coco e Açaí Red Bull Lata 250ml The...   \n",
       "41  Pack Refrigerante Coca-Cola Mini Garrafa 12 Un...   \n",
       "42                  Refrigerante Coca-Cola Lata 350ml   \n",
       "43  Suplemento em  pó ProFit Laboratórios  Isolate...   \n",
       "44              Refrigerante Coca Cola De Vidro 250ml   \n",
       "45           Refrigerante de Guaraná Fanta Lata 350ml   \n",
       "46  Sabão Barra Artesanal Coco Ufe Pacote 500g 5 U...   \n",
       "47  Refrigerante Coca-cola Zero 350ml Unid - Original   \n",
       "48  Refrigerante Coca-Cola + Fanta Laranja Pet 2 L...   \n",
       "49                     Água de Coco Kero Coco 1 Litro   \n",
       "\n",
       "                                                Links  Valores  \n",
       "0   https://www.mercadolivre.com.br/refrigerante-c...   R$2,29  \n",
       "1   https://www.mercadolivre.com.br/refrigerante-d...   R$2,19  \n",
       "2   https://produto.mercadolivre.com.br/MLB-192763...   R$3,39  \n",
       "3   https://www.mercadolivre.com.br/coco-ralado-de...   R$4,14  \n",
       "4   https://www.mercadolivre.com.br/refrigerante-s...   R$2,20  \n",
       "5   https://www.mercadolivre.com.br/refrigerante-l...   R$3,29  \n",
       "6   https://www.mercadolivre.com.br/agua-de-coco-s...   R$8,20  \n",
       "7   https://produto.mercadolivre.com.br/MLB-185086...   R$3,39  \n",
       "8   https://www.mercadolivre.com.br/refrigerante-c...   R$4,90  \n",
       "9   https://www.mercadolivre.com.br/oleo-extra-vir...  R$49,40  \n",
       "10  https://www.mercadolivre.com.br/refrigerante-c...   R$1,65  \n",
       "11  https://www.mercadolivre.com.br/refrigerante-c...   R$8,79  \n",
       "12  https://www.mercadolivre.com.br/agua-de-coco-k...   R$2,19  \n",
       "13  https://www.mercadolivre.com.br/refrigerante-c...   R$7,19  \n",
       "14  https://www.mercadolivre.com.br/refrigerante-c...   R$4,45  \n",
       "15  https://www.mercadolivre.com.br/leite-de-coco-...   R$3,99  \n",
       "16  https://www.mercadolivre.com.br/refrigerante-c...   R$8,79  \n",
       "17  https://www.mercadolivre.com.br/refrigerante-c...   R$7,09  \n",
       "18  https://www.mercadolivre.com.br/suplemento-em-...    R$149  \n",
       "19  https://www.mercadolivre.com.br/refrigerante-s...   R$2,85  \n",
       "20  https://www.mercadolivre.com.br/refrigerante-c...   R$2,85  \n",
       "21  https://www.mercadolivre.com.br/pastilha-coca-...   R$2,49  \n",
       "22  https://www.mercadolivre.com.br/pack-refrigera...  R$26,90  \n",
       "23  https://www.mercadolivre.com.br/refrigerante-c...   R$4,90  \n",
       "24  https://www.mercadolivre.com.br/agua-de-coco-k...   R$2,74  \n",
       "25  https://www.mercadolivre.com.br/refrigerante-c...   R$1,85  \n",
       "26  https://www.mercadolivre.com.br/refrigerante-c...   R$4,45  \n",
       "27  https://www.mercadolivre.com.br/suplemento-em-...  R$60,80  \n",
       "28  https://produto.mercadolivre.com.br/MLB-192559...   R$3,90  \n",
       "29  https://www.mercadolivre.com.br/refrigerante-c...   R$3,29  \n",
       "30  https://www.mercadolivre.com.br/biscoito-coco-...   R$2,95  \n",
       "31  https://www.mercadolivre.com.br/pack-refrigera...  R$13,79  \n",
       "32  https://produto.mercadolivre.com.br/MLB-185088...   R$2,29  \n",
       "33  https://www.mercadolivre.com.br/refrigerante-c...   R$5,99  \n",
       "34  https://www.mercadolivre.com.br/doce-de-leite-...  R$19,79  \n",
       "35  https://www.mercadolivre.com.br/refrigerante-c...   R$2,85  \n",
       "36  https://produto.mercadolivre.com.br/MLB-181798...   R$2,45  \n",
       "37  https://www.mercadolivre.com.br/oleo-extra-vir...  R$37,41  \n",
       "38  https://www.mercadolivre.com.br/refrigerante-c...   R$5,99  \n",
       "39  https://produto.mercadolivre.com.br/MLB-189244...   R$2,29  \n",
       "40  https://www.mercadolivre.com.br/energetico-coc...  R$10,19  \n",
       "41  https://www.mercadolivre.com.br/pack-refrigera...  R$24,34  \n",
       "42  https://www.mercadolivre.com.br/refrigerante-c...   R$3,29  \n",
       "43  https://www.mercadolivre.com.br/suplemento-em-...    R$149  \n",
       "44  https://produto.mercadolivre.com.br/MLB-185680...   R$5,25  \n",
       "45  https://www.mercadolivre.com.br/refrigerante-d...   R$2,95  \n",
       "46  https://www.mercadolivre.com.br/sabo-barra-art...  R$12,99  \n",
       "47  https://produto.mercadolivre.com.br/MLB-216641...   R$3,39  \n",
       "48  https://www.mercadolivre.com.br/refrigerante-c...  R$14,95  \n",
       "49  https://www.mercadolivre.com.br/agua-de-coco-k...   R$8,69  "
      ]
     },
     "execution_count": 33,
     "metadata": {},
     "output_type": "execute_result"
    }
   ],
   "source": [
    "import requests\n",
    "from bs4 import BeautifulSoup\n",
    "import pandas as pd\n",
    "import numpy as np\n",
    "\n",
    "url_base = \"https://lista.mercadolivre.com.br/\"\n",
    "produto_nome = input(\"Qual produto você deseja? \")\n",
    "url = url_base + produto_nome\n",
    "\n",
    "try:\n",
    "    req = requests.get(url)\n",
    "except Exception as erro:\n",
    "    print('DEU ERROOOO: ', erro)\n",
    "\n",
    "site = BeautifulSoup(req.content, 'html.parser')\n",
    "produtos = site.findAll('div', attrs={'class': 'andes-card andes-card--flat andes-card--default ui-search-result ui-search-result--core andes-card--padding-default'})\n",
    "\n",
    "titulos = []\n",
    "links = []\n",
    "valores = []\n",
    "for produto in produtos:\n",
    "    titulo = produto.find('h2', attrs={'class':'ui-search-item__title'}).text\n",
    "    link = produto.find('a', attrs={'class':'ui-search-link'})['href']\n",
    "    valor = \"\".join([i.text for i in produto.find('span', attrs={'class':'price-tag-amount'})]) # iteração da tag, com for\n",
    "    \n",
    "    titulos.append(titulo)\n",
    "    links.append(link)\n",
    "    valores.append(valor)\n",
    "\n",
    "df = pd.DataFrame({'Nomes':titulos,'Links':links, 'Valores':valores})\n",
    "#print(url)\n",
    "df\n"
   ]
  },
  {
   "cell_type": "markdown",
   "id": "e537bebf",
   "metadata": {},
   "source": [
    "## 6. Biblioteca: Selenium\n",
    "Alguns sites são criados com react, isso implica que o codigo html do site será gerado aleatoriamente quando ocorrer uma requisição para o servidor, o que torna impossivel utilizar o \"BeautifulSoup\".\n",
    "\n",
    "Para esses casos, usamos \"Selenium\" que é uma biblioteca de web driver, que não faz nada mais nada menos que controlar seu navegador como se você estivesse usando. "
   ]
  },
  {
   "cell_type": "markdown",
   "id": "ac96cbf5",
   "metadata": {},
   "source": [
    "### 6.1 Instalando Selenium"
   ]
  },
  {
   "cell_type": "markdown",
   "id": "c205818f",
   "metadata": {},
   "source": [
    "Para instalar o Selenium usamos:"
   ]
  },
  {
   "cell_type": "markdown",
   "id": "9b70f5e0",
   "metadata": {},
   "source": [
    "- pip install selenium"
   ]
  },
  {
   "cell_type": "markdown",
   "id": "52e39211",
   "metadata": {},
   "source": [
    "Depois de instalarmos a biblioteca do Selenium, precisamos instalar um drive que permite a utilização do Selenium no google Chrome.\n",
    "\n",
    "Para verificar a versão do Chrome, entramos no canto direito superior (3 pontinhos) -> ajuda -> sobre google chrome."
   ]
  },
  {
   "cell_type": "markdown",
   "id": "2917d390",
   "metadata": {},
   "source": [
    "- https://sites.google.com/chromium.org/driver/"
   ]
  },
  {
   "cell_type": "markdown",
   "id": "b62ece7b",
   "metadata": {},
   "source": [
    "Baixado o drive, coloque na mesma pasta do script que irá usar Selenium e borá programar."
   ]
  },
  {
   "cell_type": "markdown",
   "id": "2c9462f3",
   "metadata": {},
   "source": [
    "### 6.2 Primeiros passos Selenium"
   ]
  },
  {
   "cell_type": "code",
   "execution_count": 34,
   "id": "2affd664",
   "metadata": {},
   "outputs": [],
   "source": [
    "from selenium import webdriver\n",
    "\n",
    "navegador = webdriver.Chrome() # Abrir o navegador\n",
    "\n",
    "navegador.get(\"https://gudecks.com/meta/card-rankings\") # Abrir o link no navegador"
   ]
  },
  {
   "cell_type": "markdown",
   "id": "3891da24",
   "metadata": {},
   "source": [
    "### 6.3 Selenium: find_element_by_xpath\n",
    "O \"find_element_by_xpath\" já não é mais utilizado, abaixo usamos apenas o \"find_element\"."
   ]
  },
  {
   "cell_type": "code",
   "execution_count": 36,
   "id": "51b41475",
   "metadata": {},
   "outputs": [
    {
     "name": "stderr",
     "output_type": "stream",
     "text": [
      "C:\\Users\\isaac\\AppData\\Local\\Temp\\ipykernel_13288\\3262404366.py:10: DeprecationWarning: find_element_by_* commands are deprecated. Please use find_element() instead\n",
      "  elemento = navegador.find_element_by_xpath('//*[@id=\"root\"]/div[1]/div/div[2]/div[1]/div[1]/div[8]/input') # //*[@id=\"root\"]/div[1]/div/div[2]/div[1]/div[1]/div[8]/input\n"
     ]
    },
    {
     "name": "stdout",
     "output_type": "stream",
     "text": [
      "<selenium.webdriver.remote.webelement.WebElement (session=\"b6f220d6fcbf70877bbcd0c2ad03a699\", element=\"71337ea7-56bb-4942-a1bf-d7fa9626be4e\")>\n"
     ]
    }
   ],
   "source": [
    "from selenium import webdriver\n",
    "from time import sleep\n",
    "\n",
    "navegador = webdriver.Chrome()\n",
    "\n",
    "navegador.get(\"https://gudecks.com/meta/card-rankings\")\n",
    "\n",
    "sleep(10)\n",
    "\n",
    "elemento = navegador.find_element_by_xpath('//*[@id=\"root\"]/div[1]/div/div[2]/div[1]/div[1]/div[8]/input') # //*[@id=\"root\"]/div[1]/div/div[2]/div[1]/div[1]/div[8]/input\n",
    "\n",
    "elemento.send_keys('oi')\n",
    "\n",
    "print(elemento)\n"
   ]
  },
  {
   "cell_type": "markdown",
   "id": "a26c56cc",
   "metadata": {},
   "source": [
    "### 6.4 Alterando o tamanho da tela com Selenium\n",
    "Em um tamanho de tela menor a interface do site pode mudar bastante, o que implica na inutilização do nosso código. Para evitar isso usamos:"
   ]
  },
  {
   "cell_type": "markdown",
   "id": "22f3e1dc",
   "metadata": {},
   "source": [
    "A classe \"By\" é uma classe que contem diversas informações com relação ao tipo de elemento que estamos buscando. Abaixo temos uma lista dos tipos de elementos que podemos buscar usando o \"By\":\n",
    "\n",
    "- ID = \"id\"\n",
    "- XPATH = \"xpath\"\n",
    "- LINK_TEXT = \"link text\"\n",
    "- PARTIAL_LINK_TEXT = \"partial link text\"\n",
    "- NAME = \"name\"\n",
    "- TAG_NAME = \"tag name\"\n",
    "- CLASS_NAME = \"class name\"\n",
    "- CSS_SELECTOR = \"css selector\""
   ]
  },
  {
   "cell_type": "code",
   "execution_count": 37,
   "id": "83073621",
   "metadata": {},
   "outputs": [
    {
     "name": "stdout",
     "output_type": "stream",
     "text": [
      "<selenium.webdriver.remote.webelement.WebElement (session=\"224f36f84dbf45eaefb1bd8b814174eb\", element=\"b4d415f1-9c64-463d-b505-b2061774c8a3\")>\n"
     ]
    }
   ],
   "source": [
    "import requests\n",
    "from bs4 import BeautifulSoup\n",
    "from selenium import webdriver\n",
    "from selenium.webdriver.chrome.options import Options\n",
    "from selenium.webdriver.common.by import By\n",
    "\n",
    "options = Options()\n",
    "options.add_argument('window-size=200,800')\n",
    "\n",
    "navegador = webdriver.Chrome(options=options)\n",
    "navegador.get(\"https://gudecks.com/meta/card-rankings\")\n",
    "\n",
    "sleep(10)\n",
    "\n",
    "elemento = navegador.find_element(by=By.XPATH, value='//*[@id=\"root\"]/div[1]/div/div[2]/div[1]/div[1]/div[8]/input') # //*[@id=\"root\"]/div[1]/div/div[2]/div[1]/div[1]/div[8]/input\n",
    "elemento.send_keys('oi')\n",
    "#elemento.submit()\n",
    "\n",
    "print(elemento)"
   ]
  },
  {
   "cell_type": "markdown",
   "id": "17860f0d",
   "metadata": {},
   "source": [
    "### 6.5 Executando Selenium sem o navegador aparecer"
   ]
  },
  {
   "cell_type": "code",
   "execution_count": 142,
   "id": "7d71b529",
   "metadata": {},
   "outputs": [
    {
     "name": "stdout",
     "output_type": "stream",
     "text": [
      "<selenium.webdriver.remote.webelement.WebElement (session=\"20fafdcf8cb4d99e2b31f070389f27da\", element=\"690b8b71-936e-450c-81de-15645e3ae3ae\")>\n"
     ]
    }
   ],
   "source": [
    "import requests\n",
    "from selenium import webdriver\n",
    "from selenium.webdriver.chrome.options import Options\n",
    "from selenium.webdriver.common.by import By\n",
    "\n",
    "options = Options()\n",
    "options.add_argument('--headless')\n",
    "\n",
    "navegador = webdriver.Chrome(options=options)\n",
    "navegador.get(\"https://gudecks.com/meta/card-rankings\")\n",
    "\n",
    "sleep(10)\n",
    "\n",
    "elemento = navegador.find_element(by=By.XPATH, value='//*[@id=\"root\"]/div[1]/div/div[2]/div[1]/div[1]/div[8]/input') # //*[@id=\"root\"]/div[1]/div/div[2]/div[1]/div[1]/div[8]/input\n",
    "elemento.send_keys('oi')\n",
    "\n",
    "print(elemento)"
   ]
  },
  {
   "cell_type": "markdown",
   "id": "c08a0274",
   "metadata": {},
   "source": [
    "### 6.6 Pegando o codigo HTML da pagina: metodo page_source"
   ]
  },
  {
   "cell_type": "code",
   "execution_count": 38,
   "id": "9c41374f",
   "metadata": {},
   "outputs": [
    {
     "name": "stdout",
     "output_type": "stream",
     "text": [
      "<div class=\"rt-tr-group\" role=\"rowgroup\">\n",
      " <div class=\"rt-tr -odd\" role=\"row\">\n",
      "  <div class=\"rt-td no-padding-cell\" role=\"gridcell\" style=\"flex: 280 0 auto; width: 280px; max-width: 280px;\">\n",
      "   <div class=\"card-ranking-cell\">\n",
      "    <div class=\"card-image-item card-image-item-hoverable\">\n",
      "     <div class=\"card-image-item-border\">\n",
      "      <div class=\"card-image-item-background\" style='background-image: url(\"https://images.godsunchained.com/art2/250/124.jpg\");'>\n",
      "      </div>\n",
      "     </div>\n",
      "    </div>\n",
      "    <div class=\"card-ranking-name\">\n",
      "     Fusing Fleshspawn\n",
      "    </div>\n",
      "   </div>\n",
      "  </div>\n",
      "  <div class=\"rt-td react-table-cell\" role=\"gridcell\" style=\"flex: 100 0 auto; width: 100px; max-width: 100px;\">\n",
      "   Death\n",
      "  </div>\n",
      "  <div class=\"rt-td react-table-cell\" role=\"gridcell\" style=\"flex: 100 0 auto; width: 100px; max-width: 100px;\">\n",
      "   Genesis\n",
      "  </div>\n",
      "  <div class=\"rt-td react-table-cell\" role=\"gridcell\" style=\"flex: 80 0 auto; width: 80px; max-width: 80px;\">\n",
      "   <div>\n",
      "    101\n",
      "   </div>\n",
      "  </div>\n",
      "  <div class=\"rt-td react-table-cell\" role=\"gridcell\" style=\"flex: 120 0 auto; width: 120px; max-width: 120px;\">\n",
      "   0.2%\n",
      "  </div>\n",
      "  <div class=\"rt-td react-table-cell\" role=\"gridcell\" style=\"flex: 100 0 auto; width: 100px; max-width: 100px;\">\n",
      "   1.58\n",
      "  </div>\n",
      "  <div class=\"rt-td react-table-cell\" role=\"gridcell\" style=\"flex: 120 0 auto; width: 120px; max-width: 120px;\">\n",
      "   <div class=\"percentage-with-bar\">\n",
      "    <div>\n",
      "     64.4%\n",
      "    </div>\n",
      "    <div class=\"percentage-line\">\n",
      "     <div class=\"percentage-level\" style=\"width: 64.3564%;\">\n",
      "     </div>\n",
      "    </div>\n",
      "   </div>\n",
      "  </div>\n",
      "  <div class=\"rt-td react-table-cell\" role=\"gridcell\" style=\"flex: 130 0 auto; width: 130px; max-width: 130px;\">\n",
      "   <div class=\"percentage-with-bar\">\n",
      "    <div>\n",
      "     64.4%\n",
      "    </div>\n",
      "    <div class=\"percentage-line\">\n",
      "     <div class=\"percentage-level\" style=\"width: 64.3564%;\">\n",
      "     </div>\n",
      "    </div>\n",
      "   </div>\n",
      "  </div>\n",
      "  <div class=\"rt-td react-table-cell\" role=\"gridcell\" style=\"flex: 80 0 auto; width: 80px; max-width: 80px;\">\n",
      "   <div class=\"deck-price-cell\">\n",
      "    0.0071\n",
      "   </div>\n",
      "  </div>\n",
      " </div>\n",
      "</div>\n",
      "\n"
     ]
    }
   ],
   "source": [
    "import requests\n",
    "from bs4 import BeautifulSoup\n",
    "from selenium import webdriver\n",
    "from selenium.webdriver.chrome.options import Options\n",
    "from selenium.webdriver.common.by import By\n",
    "\n",
    "options = Options()\n",
    "options.add_argument('window-size=400,800')\n",
    "\n",
    "navegador = webdriver.Chrome(options=options)\n",
    "navegador.get(\"https://gudecks.com/meta/card-rankings\")\n",
    "\n",
    "sleep(10)\n",
    "\n",
    "site = BeautifulSoup(navegador.page_source, 'html.parser') # Pegando o HTML da pagina\n",
    "\n",
    "card = site.find('div', attrs={'class':'rt-tr-group'}) # Pegando o HTML de uma carta\n",
    "\n",
    "#print(site.prettify())\n",
    "print(card.prettify())"
   ]
  },
  {
   "cell_type": "markdown",
   "id": "8cc5356e",
   "metadata": {},
   "source": [
    "### 6.7 Clicando em um botão com Selenium"
   ]
  },
  {
   "cell_type": "code",
   "execution_count": 40,
   "id": "a5c8bd9c",
   "metadata": {},
   "outputs": [],
   "source": [
    "import requests\n",
    "from bs4 import BeautifulSoup\n",
    "from selenium import webdriver\n",
    "from selenium.webdriver.chrome.options import Options\n",
    "from selenium.webdriver.common.by import By\n",
    "\n",
    "options = Options()\n",
    "options.add_argument('window-size=400,800')\n",
    "\n",
    "navegador = webdriver.Chrome(options=options)\n",
    "navegador.get(\"https://gudecks.com/meta/card-rankings\")\n",
    "\n",
    "sleep(10)\n",
    "\n",
    "cookie_button = navegador.find_element(By.XPATH, '//*[@id=\"root\"]/div[3]/button')\n",
    "cookie_button.click()\n",
    "\n",
    "sleep(0.5)\n",
    "\n",
    "botton = navegador.find_element(By.XPATH, '//*[@id=\"root\"]/div[1]/div/div[2]/div[1]/div[2]/div[2]/div/div[3]/button')\n",
    "botton.click()\n"
   ]
  },
  {
   "cell_type": "markdown",
   "id": "315cb18c",
   "metadata": {},
   "source": []
  },
  {
   "cell_type": "markdown",
   "id": "dee82369",
   "metadata": {},
   "source": []
  },
  {
   "cell_type": "markdown",
   "id": "835a7e6f",
   "metadata": {},
   "source": []
  },
  {
   "cell_type": "markdown",
   "id": "0e883e02",
   "metadata": {},
   "source": []
  },
  {
   "cell_type": "markdown",
   "id": "766074c8",
   "metadata": {},
   "source": []
  },
  {
   "cell_type": "markdown",
   "id": "732c82f3",
   "metadata": {},
   "source": []
  },
  {
   "cell_type": "markdown",
   "id": "30b3b6a3",
   "metadata": {},
   "source": []
  },
  {
   "cell_type": "markdown",
   "id": "9f39ccfc",
   "metadata": {},
   "source": []
  },
  {
   "cell_type": "markdown",
   "id": "7389636e",
   "metadata": {},
   "source": [
    "# Referencias\n",
    "- https://www.youtube.com/watch?v=42sTntMEn6o&list=PLg3ZPsW_sghSkRacynznQeEs-vminyTQk"
   ]
  }
 ],
 "metadata": {
  "kernelspec": {
   "display_name": "Python 3 (ipykernel)",
   "language": "python",
   "name": "python3"
  },
  "language_info": {
   "codemirror_mode": {
    "name": "ipython",
    "version": 3
   },
   "file_extension": ".py",
   "mimetype": "text/x-python",
   "name": "python",
   "nbconvert_exporter": "python",
   "pygments_lexer": "ipython3",
   "version": "3.9.6"
  }
 },
 "nbformat": 4,
 "nbformat_minor": 5
}
